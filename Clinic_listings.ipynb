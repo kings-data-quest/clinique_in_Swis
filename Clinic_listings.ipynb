{
 "cells": [
  {
   "cell_type": "code",
   "execution_count": 1,
   "id": "8a364c47-fa9a-4def-a352-55e0307887b1",
   "metadata": {},
   "outputs": [],
   "source": [
    "import pandas as pd\n",
    "import numpy as np\n",
    "import requests\n",
    "from time import sleep\n",
    "from bs4 import BeautifulSoup\n",
    "from concurrent.futures import ThreadPoolExecutor"
   ]
  },
  {
   "cell_type": "code",
   "execution_count": 2,
   "id": "036136d7-3cbe-42f1-9f99-296d187dc9d3",
   "metadata": {},
   "outputs": [
    {
     "name": "stdout",
     "output_type": "stream",
     "text": [
      "Page 1 completed\n",
      "Page 2 completed\n",
      "Page 3 completed\n",
      "Page 4 completed\n",
      "Page 5 completed\n",
      "Page 6 completed\n",
      "Page 7 completed\n",
      "Page 8 completed\n",
      "Page 9 completed\n",
      "Page 10 completed\n",
      "Page 11 completed\n",
      "Page 12 completed\n",
      "Page 13 completed\n",
      "Page 14 completed\n",
      "Page 15 completed\n",
      "Page 16 completed\n",
      "Page 17 completed\n",
      "Page 18 completed\n",
      "Page 19 completed\n",
      "Page 20 completed\n",
      "Page 21 completed\n",
      "Page 22 completed\n",
      "Page 23 completed\n",
      "Page 24 completed\n",
      "Page 25 completed\n",
      "Page 26 completed\n",
      "Page 27 completed\n",
      "Page 28 completed\n",
      "Page 29 completed\n",
      "Page 30 completed\n",
      "Page 31 completed\n",
      "Page 32 completed\n",
      "Page 33 completed\n",
      "Page 34 completed\n",
      "Page 35 completed\n",
      "Page 36 completed\n",
      "Page 37 completed\n",
      "Page 38 completed\n",
      "Page 39 completed\n",
      "Page 40 completed\n",
      "Page 41 completed\n",
      "Page 42 completed\n",
      "Page 43 completed\n",
      "Page 44 completed\n",
      "Page 45 completed\n",
      "Page 46 completed\n",
      "Page 47 completed\n",
      "Page 48 completed\n",
      "Page 49 completed\n",
      "Page 50 completed\n",
      "Page 51 completed\n",
      "Page 52 completed\n",
      "Page 53 completed\n",
      "Page 54 completed\n",
      "Page 55 completed\n",
      "Page 56 completed\n",
      "Page 57 completed\n",
      "Page 58 completed\n",
      "Page 59 completed\n",
      "Page 60 completed\n",
      "Page 61 completed\n",
      "Page 62 completed\n",
      "Page 63 completed\n",
      "Page 64 completed\n",
      "Page 65 completed\n",
      "Page 66 completed\n",
      "Page 67 completed\n",
      "Page 68 completed\n",
      "Page 69 completed\n",
      "Page 70 completed\n",
      "Page 71 completed\n",
      "Page 72 completed\n",
      "Page 73 completed\n",
      "Page 74 completed\n",
      "Page 75 completed\n",
      "Page 76 completed\n",
      "Page 77 completed\n",
      "Page 78 completed\n",
      "Page 79 completed\n",
      "Page 80 completed\n",
      "Page 81 completed\n",
      "Page 82 completed\n",
      "Page 83 completed\n",
      "Page 84 completed\n",
      "Page 85 completed\n",
      "Page 86 completed\n",
      "Page 87 completed\n",
      "Page 88 completed\n",
      "Page 89 completed\n",
      "Page 90 completed\n",
      "Page 91 completed\n",
      "Page 92 completed\n",
      "Page 93 completed\n",
      "Page 94 completed\n",
      "Page 95 completed\n",
      "Page 96 completed\n",
      "Page 97 completed\n",
      "Page 98 completed\n",
      "Page 99 completed\n",
      "Page 100 completed\n",
      "Page 101 completed\n"
     ]
    }
   ],
   "source": [
    "def get_clinic_data(page_number):\n",
    "    url = f\"https://www.local.ch/en/q/Switzerland/clinique?page={page_number}&rid=j6VE&slot=tel\"\n",
    "    global response\n",
    "    response = requests.get(url, timeout = 20)\n",
    "    if response.status_code == 200:\n",
    "        soup = BeautifulSoup(response.content, \"html.parser\")\n",
    "        listings_ = soup.find_all(\"div\", class_ = \"entry-card lui-padding-horizontal-m lui-padding-vertical-m entry-card-highlight entry-card-tel\")\n",
    "        listings.extend(listings_)\n",
    "        \n",
    "listings = []\n",
    "page_number = 1 \n",
    "    \n",
    "while True:\n",
    "    get_clinic_data(page_number)\n",
    "    print(f'Page {page_number} completed')\n",
    "    page_number += 1\n",
    "    if response.status_code != 200:\n",
    "        break"
   ]
  },
  {
   "cell_type": "code",
   "execution_count": 3,
   "id": "67ebbbab-238a-4f16-994b-a246030acc88",
   "metadata": {
    "tags": []
   },
   "outputs": [
    {
     "data": {
      "text/plain": [
       "250"
      ]
     },
     "execution_count": 3,
     "metadata": {},
     "output_type": "execute_result"
    }
   ],
   "source": [
    "clinic_names = []\n",
    "for names in listings:\n",
    "    try:\n",
    "        name_element = names.find(\"h2\", class_=\"lui-margin-vertical-zero card-info-title\")\n",
    "        name = name_element.text.strip()\n",
    "        clinic_names.append(name)\n",
    "    except AttributeError:\n",
    "        continue\n",
    "len(clinic_names)"
   ]
  },
  {
   "cell_type": "code",
   "execution_count": 4,
   "id": "adb5d3f6-8b12-4c82-841d-56cb61147919",
   "metadata": {
    "tags": []
   },
   "outputs": [
    {
     "data": {
      "text/plain": [
       "250"
      ]
     },
     "execution_count": 4,
     "metadata": {},
     "output_type": "execute_result"
    }
   ],
   "source": [
    "clinic_address = []\n",
    "for address in listings:\n",
    "    ad = address.find('div', class_=\"card-info-address\")\n",
    "    clinic_address.append(ad.text.strip())\n",
    "len(clinic_address)"
   ]
  },
  {
   "cell_type": "code",
   "execution_count": 5,
   "id": "e8293429-3758-4463-8d41-b82c33d9313f",
   "metadata": {},
   "outputs": [
    {
     "data": {
      "text/plain": [
       "250"
      ]
     },
     "execution_count": 5,
     "metadata": {},
     "output_type": "execute_result"
    }
   ],
   "source": [
    "type_of_clinic = []\n",
    "for type_ in listings:\n",
    "    ty = type_.find('div',  class_ = \"card-info-category\")\n",
    "    type_of_clinic.append(ty.text.split()[0])\n",
    "len(type_of_clinic) "
   ]
  },
  {
   "cell_type": "code",
   "execution_count": 32,
   "id": "cf1b305f-a79b-4ea3-9f8b-0d1f78a0fc17",
   "metadata": {},
   "outputs": [
    {
     "data": {
      "text/plain": [
       "'5.0'"
      ]
     },
     "execution_count": 32,
     "metadata": {},
     "output_type": "execute_result"
    }
   ],
   "source": [
    "ar.text"
   ]
  },
  {
   "cell_type": "code",
   "execution_count": 88,
   "id": "e5e216d6-5453-4b52-8d8b-0c3df7214e56",
   "metadata": {},
   "outputs": [
    {
     "data": {
      "text/plain": [
       "250"
      ]
     },
     "execution_count": 88,
     "metadata": {},
     "output_type": "execute_result"
    }
   ],
   "source": [
    "review = []\n",
    "for r in listings:\n",
    "    ar = r.find('span', class_ = \"summary-ratings-average lui-font-bold\")\n",
    "    if ar:\n",
    "        review.append(float(ar.text))\n",
    "    else:\n",
    "        review.append(ar)\n",
    "len(review)"
   ]
  },
  {
   "cell_type": "code",
   "execution_count": 103,
   "id": "8a500e82-e97c-40d8-9d5f-faa1a29e0a14",
   "metadata": {},
   "outputs": [],
   "source": [
    "aa = '<div class=\"summary-ratings-count\">Write the first review</div>'"
   ]
  },
  {
   "cell_type": "code",
   "execution_count": 105,
   "id": "f9a5b500-776b-4df2-b9bf-da8490823775",
   "metadata": {},
   "outputs": [
    {
     "data": {
      "text/plain": [
       "['<div', 'class=\"summary-ratings-count\">Write', 'the', 'first', 'review</div>']"
      ]
     },
     "execution_count": 105,
     "metadata": {},
     "output_type": "execute_result"
    }
   ],
   "source": []
  },
  {
   "cell_type": "code",
   "execution_count": 112,
   "id": "ef6815af-cc43-40a5-b13b-974acf4bb3ae",
   "metadata": {},
   "outputs": [
    {
     "data": {
      "text/plain": [
       "250"
      ]
     },
     "execution_count": 112,
     "metadata": {},
     "output_type": "execute_result"
    }
   ],
   "source": [
    "rating = []\n",
    "for l in listings:\n",
    "    aa = l.find('div', class_ = \"summary-ratings-count\" )\n",
    "    try:\n",
    "        if aa:\n",
    "            rating.append(int(aa.text.split('\\n(')[1].split(')\\n')[0]))\n",
    "        else:\n",
    "            rating.append(aa)\n",
    "    except IndexError:\n",
    "        rating.append(aa)\n",
    "len(rating)"
   ]
  },
  {
   "cell_type": "code",
   "execution_count": null,
   "id": "8c160507-3efb-47f3-be14-d0f4a5ac0e4d",
   "metadata": {},
   "outputs": [],
   "source": []
  },
  {
   "cell_type": "code",
   "execution_count": 113,
   "id": "962e4df2-1b5c-42b2-b098-9b5451d2e0d0",
   "metadata": {},
   "outputs": [],
   "source": [
    "df = pd.DataFrame({'Names':clinic_names,\n",
    "                    'Type':type_of_clinic,\n",
    "                    'Address':clinic_address,\n",
    "                    'Reviews':review,\n",
    "                    'Rating':rating})\n",
    "\n",
    "df = df.reset_index(drop=True)\n",
    "df.index += 1\n"
   ]
  },
  {
   "cell_type": "code",
   "execution_count": 115,
   "id": "c19422f8-8213-4d0b-937c-2f859ad47151",
   "metadata": {},
   "outputs": [],
   "source": [
    "df['Rating'] = pd.to_numeric(df['Rating'], errors='coerce')\n"
   ]
  },
  {
   "cell_type": "code",
   "execution_count": 117,
   "id": "fc54038a-7736-42ae-8ad3-984707a3954e",
   "metadata": {},
   "outputs": [],
   "source": [
    "df['Reviews'] = pd.to_numeric(df['Reviews'], errors = 'coerce')"
   ]
  },
  {
   "cell_type": "code",
   "execution_count": 118,
   "id": "09b70ac9-5455-4570-8f79-7a7c3ceed70c",
   "metadata": {},
   "outputs": [
    {
     "data": {
      "text/html": [
       "<div>\n",
       "<style scoped>\n",
       "    .dataframe tbody tr th:only-of-type {\n",
       "        vertical-align: middle;\n",
       "    }\n",
       "\n",
       "    .dataframe tbody tr th {\n",
       "        vertical-align: top;\n",
       "    }\n",
       "\n",
       "    .dataframe thead th {\n",
       "        text-align: right;\n",
       "    }\n",
       "</style>\n",
       "<table border=\"1\" class=\"dataframe\">\n",
       "  <thead>\n",
       "    <tr style=\"text-align: right;\">\n",
       "      <th></th>\n",
       "      <th>Names</th>\n",
       "      <th>Type</th>\n",
       "      <th>Address</th>\n",
       "      <th>Reviews</th>\n",
       "      <th>Rating</th>\n",
       "    </tr>\n",
       "  </thead>\n",
       "  <tbody>\n",
       "    <tr>\n",
       "      <th>1</th>\n",
       "      <td>Gesundheitszentrum Fricktal AG</td>\n",
       "      <td>Hospital</td>\n",
       "      <td>Mühlegasse 18, 5070 Frick</td>\n",
       "      <td>4.7</td>\n",
       "      <td>3.0</td>\n",
       "    </tr>\n",
       "    <tr>\n",
       "      <th>2</th>\n",
       "      <td>Klinik Professor Sailer</td>\n",
       "      <td>Plastic,</td>\n",
       "      <td>Heuelstrasse 28, 8032 Zürich</td>\n",
       "      <td>4.5</td>\n",
       "      <td>2.0</td>\n",
       "    </tr>\n",
       "    <tr>\n",
       "      <th>3</th>\n",
       "      <td>Kantonsspital Baselland Liestal</td>\n",
       "      <td>Hospital</td>\n",
       "      <td>Rheinstrasse 26, 4410 Liestal</td>\n",
       "      <td>3.6</td>\n",
       "      <td>8.0</td>\n",
       "    </tr>\n",
       "    <tr>\n",
       "      <th>4</th>\n",
       "      <td>Klinik Wysshölzli</td>\n",
       "      <td>Clinic</td>\n",
       "      <td>Waldrandweg 19, 3360 Herzogenbuchsee</td>\n",
       "      <td>NaN</td>\n",
       "      <td>NaN</td>\n",
       "    </tr>\n",
       "    <tr>\n",
       "      <th>5</th>\n",
       "      <td>Centre Jean-Violette</td>\n",
       "      <td>Radiological</td>\n",
       "      <td>Rue Jean-Violette 3-5, 1205 Genève</td>\n",
       "      <td>5.0</td>\n",
       "      <td>7.0</td>\n",
       "    </tr>\n",
       "    <tr>\n",
       "      <th>...</th>\n",
       "      <td>...</td>\n",
       "      <td>...</td>\n",
       "      <td>...</td>\n",
       "      <td>...</td>\n",
       "      <td>...</td>\n",
       "    </tr>\n",
       "    <tr>\n",
       "      <th>246</th>\n",
       "      <td>Quai Santé - Belmont</td>\n",
       "      <td>Gastroenterology</td>\n",
       "      <td>Avenue de Belmont 19, 1820 Montreux</td>\n",
       "      <td>NaN</td>\n",
       "      <td>NaN</td>\n",
       "    </tr>\n",
       "    <tr>\n",
       "      <th>247</th>\n",
       "      <td>Quai Santé - Gare</td>\n",
       "      <td>General</td>\n",
       "      <td>Avenue des Alpes 74, 1820 Montreux</td>\n",
       "      <td>4.7</td>\n",
       "      <td>7.0</td>\n",
       "    </tr>\n",
       "    <tr>\n",
       "      <th>248</th>\n",
       "      <td>Quai Santé - Tour de Peilz</td>\n",
       "      <td>General</td>\n",
       "      <td>Grand-Rue 1, 1814 La Tour-de-Peilz</td>\n",
       "      <td>NaN</td>\n",
       "      <td>NaN</td>\n",
       "    </tr>\n",
       "    <tr>\n",
       "      <th>249</th>\n",
       "      <td>Centre médical Le Forum</td>\n",
       "      <td>Medical</td>\n",
       "      <td>Rue de Condémines 8, 1950 Sion</td>\n",
       "      <td>NaN</td>\n",
       "      <td>NaN</td>\n",
       "    </tr>\n",
       "    <tr>\n",
       "      <th>250</th>\n",
       "      <td>Medi-Emploi Sàrl</td>\n",
       "      <td>Employment</td>\n",
       "      <td>Rue de la Combe 11, 1260 Nyon</td>\n",
       "      <td>5.0</td>\n",
       "      <td>2.0</td>\n",
       "    </tr>\n",
       "  </tbody>\n",
       "</table>\n",
       "<p>250 rows × 5 columns</p>\n",
       "</div>"
      ],
      "text/plain": [
       "                               Names              Type  \\\n",
       "1     Gesundheitszentrum Fricktal AG          Hospital   \n",
       "2            Klinik Professor Sailer          Plastic,   \n",
       "3    Kantonsspital Baselland Liestal          Hospital   \n",
       "4                  Klinik Wysshölzli            Clinic   \n",
       "5               Centre Jean-Violette      Radiological   \n",
       "..                               ...               ...   \n",
       "246             Quai Santé - Belmont  Gastroenterology   \n",
       "247                Quai Santé - Gare           General   \n",
       "248       Quai Santé - Tour de Peilz           General   \n",
       "249          Centre médical Le Forum           Medical   \n",
       "250                 Medi-Emploi Sàrl        Employment   \n",
       "\n",
       "                                  Address  Reviews  Rating  \n",
       "1               Mühlegasse 18, 5070 Frick      4.7     3.0  \n",
       "2            Heuelstrasse 28, 8032 Zürich      4.5     2.0  \n",
       "3           Rheinstrasse 26, 4410 Liestal      3.6     8.0  \n",
       "4    Waldrandweg 19, 3360 Herzogenbuchsee      NaN     NaN  \n",
       "5      Rue Jean-Violette 3-5, 1205 Genève      5.0     7.0  \n",
       "..                                    ...      ...     ...  \n",
       "246   Avenue de Belmont 19, 1820 Montreux      NaN     NaN  \n",
       "247    Avenue des Alpes 74, 1820 Montreux      4.7     7.0  \n",
       "248    Grand-Rue 1, 1814 La Tour-de-Peilz      NaN     NaN  \n",
       "249        Rue de Condémines 8, 1950 Sion      NaN     NaN  \n",
       "250         Rue de la Combe 11, 1260 Nyon      5.0     2.0  \n",
       "\n",
       "[250 rows x 5 columns]"
      ]
     },
     "execution_count": 118,
     "metadata": {},
     "output_type": "execute_result"
    }
   ],
   "source": [
    "df"
   ]
  },
  {
   "cell_type": "code",
   "execution_count": null,
   "id": "2d088e9d-c533-4100-8b43-15828a6362f3",
   "metadata": {},
   "outputs": [],
   "source": [
    "df.to_csv('Swiz_clinc."
   ]
  }
 ],
 "metadata": {
  "kernelspec": {
   "display_name": "Python 3 (ipykernel)",
   "language": "python",
   "name": "python3"
  },
  "language_info": {
   "codemirror_mode": {
    "name": "ipython",
    "version": 3
   },
   "file_extension": ".py",
   "mimetype": "text/x-python",
   "name": "python",
   "nbconvert_exporter": "python",
   "pygments_lexer": "ipython3",
   "version": "3.9.13"
  }
 },
 "nbformat": 4,
 "nbformat_minor": 5
}
