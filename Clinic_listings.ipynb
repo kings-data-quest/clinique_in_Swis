{
 "cells": [
  {
   "cell_type": "code",
   "execution_count": 1,
   "id": "8a364c47-fa9a-4def-a352-55e0307887b1",
   "metadata": {},
   "outputs": [],
   "source": [
    "import pandas as pd\n",
    "import numpy as np\n",
    "import requests\n",
    "from time import sleep\n",
    "from bs4 import BeautifulSoup\n",
    "from concurrent.futures import ThreadPoolExecutor"
   ]
  },
  {
   "cell_type": "code",
   "execution_count": 2,
   "id": "9dda0d46-896e-4ff0-9cb4-cddf353bcbc7",
   "metadata": {},
   "outputs": [],
   "source": [
    "bing_maps_api_key = \"bing_api_hey\""
   ]
  },
  {
   "cell_type": "code",
   "execution_count": 3,
   "id": "036136d7-3cbe-42f1-9f99-296d187dc9d3",
   "metadata": {
    "tags": []
   },
   "outputs": [
    {
     "name": "stdout",
     "output_type": "stream",
     "text": [
      "Page 1 completed\n",
      "Page 2 completed\n",
      "Page 3 completed\n",
      "Page 4 completed\n",
      "Page 5 completed\n",
      "Page 6 completed\n",
      "Page 7 completed\n",
      "Page 8 completed\n",
      "Page 9 completed\n",
      "Page 10 completed\n",
      "Page 11 completed\n",
      "Page 12 completed\n",
      "Page 13 completed\n",
      "Page 14 completed\n",
      "Page 15 completed\n",
      "Page 16 completed\n",
      "Page 17 completed\n",
      "Page 18 completed\n",
      "Page 19 completed\n",
      "Page 20 completed\n",
      "Page 21 completed\n",
      "Page 22 completed\n",
      "Page 23 completed\n",
      "Page 24 completed\n",
      "Page 25 completed\n",
      "Page 26 completed\n",
      "Page 27 completed\n",
      "Page 28 completed\n",
      "Page 29 completed\n",
      "Page 30 completed\n",
      "Page 31 completed\n",
      "Page 32 completed\n",
      "Page 33 completed\n",
      "Page 34 completed\n",
      "Page 35 completed\n",
      "Page 36 completed\n",
      "Page 37 completed\n",
      "Page 38 completed\n",
      "Page 39 completed\n",
      "Page 40 completed\n",
      "Page 41 completed\n",
      "Page 42 completed\n",
      "Page 43 completed\n",
      "Page 44 completed\n",
      "Page 45 completed\n",
      "Page 46 completed\n",
      "Page 47 completed\n",
      "Page 48 completed\n",
      "Page 49 completed\n",
      "Page 50 completed\n",
      "Page 51 completed\n",
      "Page 52 completed\n",
      "Page 53 completed\n",
      "Page 54 completed\n",
      "Page 55 completed\n",
      "Page 56 completed\n",
      "Page 57 completed\n",
      "Page 58 completed\n",
      "Page 59 completed\n",
      "Page 60 completed\n",
      "Page 61 completed\n",
      "Page 62 completed\n",
      "Page 63 completed\n",
      "Page 64 completed\n",
      "Page 65 completed\n",
      "Page 66 completed\n",
      "Page 67 completed\n",
      "Page 68 completed\n",
      "Page 69 completed\n",
      "Page 70 completed\n",
      "Page 71 completed\n",
      "Page 72 completed\n",
      "Page 73 completed\n",
      "Page 74 completed\n",
      "Page 75 completed\n",
      "Page 76 completed\n",
      "Page 77 completed\n",
      "Page 78 completed\n",
      "Page 79 completed\n",
      "Page 80 completed\n",
      "Page 81 completed\n",
      "Page 82 completed\n",
      "Page 83 completed\n",
      "Page 84 completed\n",
      "Page 85 completed\n",
      "Page 86 completed\n",
      "Page 87 completed\n",
      "Page 88 completed\n",
      "Page 89 completed\n",
      "Page 90 completed\n",
      "Page 91 completed\n",
      "Page 92 completed\n",
      "Page 93 completed\n",
      "Page 94 completed\n",
      "Page 95 completed\n",
      "Page 96 completed\n",
      "Page 97 completed\n",
      "Page 98 completed\n",
      "Page 99 completed\n",
      "Page 100 completed\n",
      "Page 101 completed\n"
     ]
    }
   ],
   "source": [
    "def get_clinic_data(page_number):\n",
    "    url = f\"https://www.local.ch/en/q/Switzerland/clinique?page={page_number}&rid=j6VE&slot=tel\"\n",
    "    global response\n",
    "    response = requests.get(url, timeout = 20)\n",
    "    if response.status_code == 200:\n",
    "        soup = BeautifulSoup(response.content, \"html.parser\")\n",
    "        listings_ = soup.find_all(\"div\", class_ = \"entry-card lui-padding-horizontal-m lui-padding-vertical-m entry-card-highlight entry-card-tel\")\n",
    "        listings.extend(listings_)\n",
    "        \n",
    "listings = []\n",
    "page_number = 1 \n",
    "    \n",
    "while True:\n",
    "    get_clinic_data(page_number)\n",
    "    print(f'Page {page_number} completed')\n",
    "    page_number += 1\n",
    "    if response.status_code != 200:\n",
    "        break"
   ]
  },
  {
   "cell_type": "code",
   "execution_count": 4,
   "id": "67ebbbab-238a-4f16-994b-a246030acc88",
   "metadata": {
    "tags": []
   },
   "outputs": [
    {
     "data": {
      "text/plain": [
       "249"
      ]
     },
     "execution_count": 4,
     "metadata": {},
     "output_type": "execute_result"
    }
   ],
   "source": [
    "clinic_names = []\n",
    "for names in listings:\n",
    "    try:\n",
    "        name_element = names.find(\"h2\", class_=\"lui-margin-vertical-zero card-info-title\")\n",
    "        name = name_element.text.strip()\n",
    "        clinic_names.append(name)\n",
    "    except AttributeError:\n",
    "        continue\n",
    "len(clinic_names)"
   ]
  },
  {
   "cell_type": "code",
   "execution_count": 5,
   "id": "adb5d3f6-8b12-4c82-841d-56cb61147919",
   "metadata": {
    "tags": []
   },
   "outputs": [
    {
     "data": {
      "text/plain": [
       "249"
      ]
     },
     "execution_count": 5,
     "metadata": {},
     "output_type": "execute_result"
    }
   ],
   "source": [
    "clinic_address = []\n",
    "for address in listings:\n",
    "    ad = address.find('div', class_=\"card-info-address\")\n",
    "    clinic_address.append(ad.text.strip())\n",
    "len(clinic_address)"
   ]
  },
  {
   "cell_type": "code",
   "execution_count": 6,
   "id": "e8293429-3758-4463-8d41-b82c33d9313f",
   "metadata": {},
   "outputs": [
    {
     "data": {
      "text/plain": [
       "249"
      ]
     },
     "execution_count": 6,
     "metadata": {},
     "output_type": "execute_result"
    }
   ],
   "source": [
    "type_of_clinic = []\n",
    "for type_ in listings:\n",
    "    ty = type_.find('div',  class_ = \"card-info-category\")\n",
    "    type_of_clinic.append(ty.text.split()[0])\n",
    "len(type_of_clinic) "
   ]
  },
  {
   "cell_type": "code",
   "execution_count": 7,
   "id": "e5e216d6-5453-4b52-8d8b-0c3df7214e56",
   "metadata": {},
   "outputs": [
    {
     "data": {
      "text/plain": [
       "249"
      ]
     },
     "execution_count": 7,
     "metadata": {},
     "output_type": "execute_result"
    }
   ],
   "source": [
    "review = []\n",
    "for r in listings:\n",
    "    ar = r.find('span', class_ = \"summary-ratings-average lui-font-bold\")\n",
    "    if ar:\n",
    "        review.append(float(ar.text))\n",
    "    else:\n",
    "        review.append(ar)\n",
    "len(review)"
   ]
  },
  {
   "cell_type": "code",
   "execution_count": null,
   "id": "f9a5b500-776b-4df2-b9bf-da8490823775",
   "metadata": {},
   "outputs": [],
   "source": []
  },
  {
   "cell_type": "code",
   "execution_count": 8,
   "id": "ef6815af-cc43-40a5-b13b-974acf4bb3ae",
   "metadata": {},
   "outputs": [
    {
     "data": {
      "text/plain": [
       "249"
      ]
     },
     "execution_count": 8,
     "metadata": {},
     "output_type": "execute_result"
    }
   ],
   "source": [
    "rating = []\n",
    "for l in listings:\n",
    "    aa = l.find('div', class_ = \"summary-ratings-count\" )\n",
    "    try:\n",
    "        if aa:\n",
    "            rating.append(int(aa.text.split('\\n(')[1].split(')\\n')[0]))\n",
    "        else:\n",
    "            rating.append(aa)\n",
    "    except IndexError:\n",
    "        rating.append(aa)\n",
    "len(rating)"
   ]
  },
  {
   "cell_type": "code",
   "execution_count": null,
   "id": "8c160507-3efb-47f3-be14-d0f4a5ac0e4d",
   "metadata": {},
   "outputs": [],
   "source": []
  },
  {
   "cell_type": "code",
   "execution_count": 9,
   "id": "962e4df2-1b5c-42b2-b098-9b5451d2e0d0",
   "metadata": {},
   "outputs": [],
   "source": [
    "df = pd.DataFrame({'Names':clinic_names,\n",
    "                    'Type':type_of_clinic,\n",
    "                    'Address':clinic_address,\n",
    "                    'Reviews':review,\n",
    "                    'Rating':rating})\n",
    "\n",
    "df = df.reset_index(drop=True)\n",
    "df.index += 1\n"
   ]
  },
  {
   "cell_type": "code",
   "execution_count": 10,
   "id": "c19422f8-8213-4d0b-937c-2f859ad47151",
   "metadata": {},
   "outputs": [],
   "source": [
    "df['Rating'] = pd.to_numeric(df['Rating'], errors='coerce')\n"
   ]
  },
  {
   "cell_type": "code",
   "execution_count": 11,
   "id": "fc54038a-7736-42ae-8ad3-984707a3954e",
   "metadata": {},
   "outputs": [],
   "source": [
    "df['Reviews'] = pd.to_numeric(df['Reviews'], errors = 'coerce')"
   ]
  },
  {
   "cell_type": "code",
   "execution_count": null,
   "id": "3d4bef5f-1e35-4299-a25c-1db823825fbb",
   "metadata": {},
   "outputs": [],
   "source": []
  },
  {
   "cell_type": "code",
   "execution_count": 12,
   "id": "aeb9ea3a-5d76-470d-bfa1-8d90084fa41b",
   "metadata": {},
   "outputs": [],
   "source": [
    "addresses = df.Address.to_list()"
   ]
  },
  {
   "cell_type": "code",
   "execution_count": 13,
   "id": "17bfe9e0-e973-4959-8d0a-b05b355ef9df",
   "metadata": {},
   "outputs": [],
   "source": [
    "# Replace YOUR_BING_MAPS_API_KEY with your actual Bing Maps API key\n",
    "lat = []\n",
    "long = []\n",
    "\n",
    "# Address to be geocoded\n",
    "for address in addresses:\n",
    "\n",
    "    # Construct the URL for the API request\n",
    "    url = f\"http://dev.virtualearth.net/REST/v1/Locations?q={address}&key={bing_maps_api_key}\"\n",
    "\n",
    "    # Make the API request\n",
    "    response = requests.get(url)\n",
    "\n",
    "    # Check the status code of the response\n",
    "    if response.status_code == 200:\n",
    "        # Parse the JSON response\n",
    "        data = response.json()\n",
    "\n",
    "        # Check if there are any results in the response\n",
    "        if data[\"resourceSets\"][0][\"estimatedTotal\"] > 0:\n",
    "            # Get the first result\n",
    "            result = data[\"resourceSets\"][0][\"resources\"][0]\n",
    "\n",
    "            # Extract the latitude and longitude\n",
    "            latitude = result[\"point\"][\"coordinates\"][0]\n",
    "            longitude = result[\"point\"][\"coordinates\"][1]\n",
    "            lat.append(latitude)\n",
    "            long.append(longitude)\n",
    "        else:\n",
    "            print(\"No results found\")\n",
    "    else:\n",
    "        print(\"Request failed with status code:\", response.status_code)\n"
   ]
  },
  {
   "cell_type": "code",
   "execution_count": 14,
   "id": "13d6e190-7268-4c12-b0e3-6589b0951f27",
   "metadata": {},
   "outputs": [],
   "source": [
    "df['Longitude'], df['Latitude'] = long, lat"
   ]
  },
  {
   "cell_type": "code",
   "execution_count": 15,
   "id": "ec6f063f-87da-4714-a121-c7a161f88e75",
   "metadata": {},
   "outputs": [],
   "source": [
    "columns = ['Names', 'Type', 'Address', 'Latitude', 'Longitude', 'Reviews', 'Rating' ]"
   ]
  },
  {
   "cell_type": "code",
   "execution_count": 16,
   "id": "f39f6904-c995-4d12-8fa4-a22312a78bbf",
   "metadata": {},
   "outputs": [],
   "source": [
    "df = df.reindex(columns = columns)"
   ]
  },
  {
   "cell_type": "code",
   "execution_count": 17,
   "id": "2d088e9d-c533-4100-8b43-15828a6362f3",
   "metadata": {},
   "outputs": [],
   "source": [
    "df.to_csv('Swiz_clinc.csv', index = False)"
   ]
  },
  {
   "cell_type": "code",
   "execution_count": null,
   "id": "4b617278-c4c8-423b-ae47-63ae6ccf3c44",
   "metadata": {},
   "outputs": [],
   "source": []
  },
  {
   "cell_type": "code",
   "execution_count": null,
   "id": "962f5ac9-52d1-4576-b104-bf5b74555eed",
   "metadata": {},
   "outputs": [],
   "source": []
  }
 ],
 "metadata": {
  "kernelspec": {
   "display_name": "Python 3 (ipykernel)",
   "language": "python",
   "name": "python3"
  },
  "language_info": {
   "codemirror_mode": {
    "name": "ipython",
    "version": 3
   },
   "file_extension": ".py",
   "mimetype": "text/x-python",
   "name": "python",
   "nbconvert_exporter": "python",
   "pygments_lexer": "ipython3",
   "version": "3.9.13"
  }
 },
 "nbformat": 4,
 "nbformat_minor": 5
}
