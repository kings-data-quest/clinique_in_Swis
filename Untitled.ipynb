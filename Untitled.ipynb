{
 "cells": [
  {
   "cell_type": "code",
   "execution_count": 1,
   "id": "9856ea24-a750-44aa-a718-d05962250653",
   "metadata": {},
   "outputs": [],
   "source": [
    "import pandas as pd\n",
    "import requests\n",
    "from time import sleep\n",
    "from bs4 import BeautifulSoup\n",
    "from concurrent.futures import ThreadPoolExecutor"
   ]
  },
  {
   "cell_type": "code",
   "execution_count": 73,
   "id": "6dea9fca-f5b9-429a-b260-4889331a3a0f",
   "metadata": {
    "collapsed": true,
    "jupyter": {
     "outputs_hidden": true
    },
    "tags": []
   },
   "outputs": [
    {
     "name": "stdout",
     "output_type": "stream",
     "text": [
      "Page 1 completed\n",
      "Page 2 completed\n",
      "Page 3 completed\n",
      "Page 4 completed\n"
     ]
    },
    {
     "ename": "KeyboardInterrupt",
     "evalue": "",
     "output_type": "error",
     "traceback": [
      "\u001b[1;31m---------------------------------------------------------------------------\u001b[0m",
      "\u001b[1;31mKeyboardInterrupt\u001b[0m                         Traceback (most recent call last)",
      "\u001b[1;32m~\\AppData\\Local\\Temp\\ipykernel_10608\\689496403.py\u001b[0m in \u001b[0;36m<module>\u001b[1;34m\u001b[0m\n\u001b[0;32m     29\u001b[0m     \u001b[1;32mwhile\u001b[0m \u001b[1;32mTrue\u001b[0m\u001b[1;33m:\u001b[0m\u001b[1;33m\u001b[0m\u001b[1;33m\u001b[0m\u001b[0m\n\u001b[0;32m     30\u001b[0m         \u001b[0mfuture\u001b[0m \u001b[1;33m=\u001b[0m \u001b[0mexecutor\u001b[0m\u001b[1;33m.\u001b[0m\u001b[0msubmit\u001b[0m\u001b[1;33m(\u001b[0m\u001b[0mget_clinic_data\u001b[0m\u001b[1;33m,\u001b[0m \u001b[0mpage_number\u001b[0m\u001b[1;33m)\u001b[0m\u001b[1;33m\u001b[0m\u001b[1;33m\u001b[0m\u001b[0m\n\u001b[1;32m---> 31\u001b[1;33m         \u001b[0mresult\u001b[0m \u001b[1;33m=\u001b[0m \u001b[0mfuture\u001b[0m\u001b[1;33m.\u001b[0m\u001b[0mresult\u001b[0m\u001b[1;33m(\u001b[0m\u001b[1;33m)\u001b[0m\u001b[1;33m\u001b[0m\u001b[1;33m\u001b[0m\u001b[0m\n\u001b[0m\u001b[0;32m     32\u001b[0m         \u001b[1;32mif\u001b[0m \u001b[0mresult\u001b[0m\u001b[1;33m:\u001b[0m\u001b[1;33m\u001b[0m\u001b[1;33m\u001b[0m\u001b[0m\n\u001b[0;32m     33\u001b[0m \u001b[1;33m\u001b[0m\u001b[0m\n",
      "\u001b[1;32m~\\anaconda3\\lib\\concurrent\\futures\\_base.py\u001b[0m in \u001b[0;36mresult\u001b[1;34m(self, timeout)\u001b[0m\n\u001b[0;32m    439\u001b[0m                     \u001b[1;32mreturn\u001b[0m \u001b[0mself\u001b[0m\u001b[1;33m.\u001b[0m\u001b[0m__get_result\u001b[0m\u001b[1;33m(\u001b[0m\u001b[1;33m)\u001b[0m\u001b[1;33m\u001b[0m\u001b[1;33m\u001b[0m\u001b[0m\n\u001b[0;32m    440\u001b[0m \u001b[1;33m\u001b[0m\u001b[0m\n\u001b[1;32m--> 441\u001b[1;33m                 \u001b[0mself\u001b[0m\u001b[1;33m.\u001b[0m\u001b[0m_condition\u001b[0m\u001b[1;33m.\u001b[0m\u001b[0mwait\u001b[0m\u001b[1;33m(\u001b[0m\u001b[0mtimeout\u001b[0m\u001b[1;33m)\u001b[0m\u001b[1;33m\u001b[0m\u001b[1;33m\u001b[0m\u001b[0m\n\u001b[0m\u001b[0;32m    442\u001b[0m \u001b[1;33m\u001b[0m\u001b[0m\n\u001b[0;32m    443\u001b[0m                 \u001b[1;32mif\u001b[0m \u001b[0mself\u001b[0m\u001b[1;33m.\u001b[0m\u001b[0m_state\u001b[0m \u001b[1;32min\u001b[0m \u001b[1;33m[\u001b[0m\u001b[0mCANCELLED\u001b[0m\u001b[1;33m,\u001b[0m \u001b[0mCANCELLED_AND_NOTIFIED\u001b[0m\u001b[1;33m]\u001b[0m\u001b[1;33m:\u001b[0m\u001b[1;33m\u001b[0m\u001b[1;33m\u001b[0m\u001b[0m\n",
      "\u001b[1;32m~\\anaconda3\\lib\\threading.py\u001b[0m in \u001b[0;36mwait\u001b[1;34m(self, timeout)\u001b[0m\n\u001b[0;32m    310\u001b[0m         \u001b[1;32mtry\u001b[0m\u001b[1;33m:\u001b[0m    \u001b[1;31m# restore state no matter what (e.g., KeyboardInterrupt)\u001b[0m\u001b[1;33m\u001b[0m\u001b[1;33m\u001b[0m\u001b[0m\n\u001b[0;32m    311\u001b[0m             \u001b[1;32mif\u001b[0m \u001b[0mtimeout\u001b[0m \u001b[1;32mis\u001b[0m \u001b[1;32mNone\u001b[0m\u001b[1;33m:\u001b[0m\u001b[1;33m\u001b[0m\u001b[1;33m\u001b[0m\u001b[0m\n\u001b[1;32m--> 312\u001b[1;33m                 \u001b[0mwaiter\u001b[0m\u001b[1;33m.\u001b[0m\u001b[0macquire\u001b[0m\u001b[1;33m(\u001b[0m\u001b[1;33m)\u001b[0m\u001b[1;33m\u001b[0m\u001b[1;33m\u001b[0m\u001b[0m\n\u001b[0m\u001b[0;32m    313\u001b[0m                 \u001b[0mgotit\u001b[0m \u001b[1;33m=\u001b[0m \u001b[1;32mTrue\u001b[0m\u001b[1;33m\u001b[0m\u001b[1;33m\u001b[0m\u001b[0m\n\u001b[0;32m    314\u001b[0m             \u001b[1;32melse\u001b[0m\u001b[1;33m:\u001b[0m\u001b[1;33m\u001b[0m\u001b[1;33m\u001b[0m\u001b[0m\n",
      "\u001b[1;31mKeyboardInterrupt\u001b[0m: "
     ]
    }
   ],
   "source": [
    "def get_clinic_data(page_number):\n",
    "    url = f\"https://www.local.ch/en/q/Switzerland/clinique?page={page_number}&rid=j6VE&slot=tel\"\n",
    "    response = requests.get(url, timeout = 20)\n",
    "\n",
    "    if response.status_code == 200:\n",
    "        soup = BeautifulSoup(response.content, \"html.parser\")\n",
    "        listings = soup.find_all(\"div\", class_=\"card-info-element\")\n",
    "        addresses = soup.find_all('div', class_ = \"card-info-address\")\n",
    "        cl_type = soup.find_all('div', class_ = \"card-info-category\")\n",
    "        rating = soup.find_all('div', class_ = \"summary-ratings-value\")\n",
    "        review = soup.find_all('span', class_ = 'summary-ratings-average lui-font-bold')\n",
    "        link = soup.find_all('div', \"entry-card-info-element entry-card-info-element-first\")\n",
    "        if listings:\n",
    "            return (listings, addresses, cl_type, link, rating, review)\n",
    "        else:\n",
    "            return None\n",
    "    else:\n",
    "        return None\n",
    "\n",
    "page_number = 1\n",
    "clinic_listings = []\n",
    "clinic_addresses = []\n",
    "clinic_type = []\n",
    "clinic_reviews = []\n",
    "clinic_ratings = []\n",
    "links = []\n",
    "\n",
    "with ThreadPoolExecutor() as executor:\n",
    "    while True:\n",
    "        future = executor.submit(get_clinic_data, page_number)\n",
    "        result = future.result()\n",
    "        if result:\n",
    "            \n",
    "            if result[0]:\n",
    "                clinic_listings.extend(result[0])\n",
    "            else:\n",
    "                 list()\n",
    "            \n",
    "            if result[1]:\n",
    "                clinic_addresses.extend(result[1])\n",
    "            else:\n",
    "                 list()\n",
    "            \n",
    "            if result[2]:\n",
    "                clinic_type.extend(result[2])\n",
    "            else:\n",
    "                 list()\n",
    "            \n",
    "            if result[3]:\n",
    "                links.extend(result[3])\n",
    "            else:\n",
    "                 list()\n",
    "            \n",
    "            if result[4]:\n",
    "                clinic_ratings.extend(result[4])\n",
    "            else:\n",
    "                 list()\n",
    "            \n",
    "            if result[5]:\n",
    "                clinic_reviews.extend(result[5])\n",
    "            else:\n",
    "                 list()\n",
    "            \n",
    "            print(f'Page {page_number} completed')\n",
    "            page_number += 1\n",
    "        else:\n",
    "            break\n",
    "\n",
    "print(f\"Number of clinic listings: {len(clinic_listings)}\")\n"
   ]
  },
  {
   "cell_type": "code",
   "execution_count": 74,
   "id": "aba9d646-7612-44b1-948a-1b440364efbc",
   "metadata": {},
   "outputs": [
    {
     "name": "stdout",
     "output_type": "stream",
     "text": [
      "80\n",
      "40\n",
      "40\n",
      "30\n",
      "30\n",
      "38\n"
     ]
    }
   ],
   "source": [
    "print(len(clinic_listings))\n",
    "print(len(clinic_addresses))\n",
    "print(len(clinic_type))\n",
    "print(len(clinic_reviews))\n",
    "print(len(clinic_ratings))\n",
    "print(len(links))"
   ]
  },
  {
   "cell_type": "code",
   "execution_count": 72,
   "id": "f7e14f49-4ed4-4a54-b4ae-c3511ae6470a",
   "metadata": {},
   "outputs": [
    {
     "ename": "TypeError",
     "evalue": "list indices must be integers or slices, not NoneType",
     "output_type": "error",
     "traceback": [
      "\u001b[1;31m---------------------------------------------------------------------------\u001b[0m",
      "\u001b[1;31mTypeError\u001b[0m                                 Traceback (most recent call last)",
      "\u001b[1;32m~\\AppData\\Local\\Temp\\ipykernel_10608\\1028579906.py\u001b[0m in \u001b[0;36m<module>\u001b[1;34m\u001b[0m\n\u001b[1;32m----> 1\u001b[1;33m \u001b[0mclinic_type\u001b[0m\u001b[1;33m[\u001b[0m\u001b[1;32mNone\u001b[0m\u001b[1;33m]\u001b[0m\u001b[1;33m\u001b[0m\u001b[1;33m\u001b[0m\u001b[0m\n\u001b[0m",
      "\u001b[1;31mTypeError\u001b[0m: list indices must be integers or slices, not NoneType"
     ]
    }
   ],
   "source": [
    "clinic_type"
   ]
  },
  {
   "cell_type": "code",
   "execution_count": 46,
   "id": "15eb3a74-2fd1-4f38-b20e-23400b531e02",
   "metadata": {},
   "outputs": [],
   "source": [
    "url = f\"https://www.local.ch/en/q/Switzerland/clinique?page=1&rid=j6VE&slot=tel\"\n",
    "response = requests.get(url, timeout = 20)"
   ]
  },
  {
   "cell_type": "code",
   "execution_count": 52,
   "id": "1ea719e1-0fd0-4fcd-802a-8743fa1b0481",
   "metadata": {},
   "outputs": [],
   "source": [
    "soup = BeautifulSoup(response.content, 'html.parser')"
   ]
  },
  {
   "cell_type": "code",
   "execution_count": 60,
   "id": "0ce69e59-ba98-48ff-926b-cb8c55e5d60c",
   "metadata": {},
   "outputs": [
    {
     "data": {
      "text/plain": [
       "[<span class=\"summary-ratings-average lui-font-bold\">4.7</span>,\n",
       " <span class=\"summary-ratings-average lui-font-bold\">4.5</span>,\n",
       " <span class=\"summary-ratings-average lui-font-bold\">3.6</span>,\n",
       " <span class=\"summary-ratings-average lui-font-bold\">4.0</span>,\n",
       " <span class=\"summary-ratings-average lui-font-bold\">5.0</span>,\n",
       " <span class=\"summary-ratings-average lui-font-bold\">4.8</span>,\n",
       " <span class=\"summary-ratings-average lui-font-bold\">4.7</span>,\n",
       " <span class=\"summary-ratings-average lui-font-bold\">3.5</span>]"
      ]
     },
     "execution_count": 60,
     "metadata": {},
     "output_type": "execute_result"
    }
   ],
   "source": [
    "soup.find_all('span', class_ = 'summary-ratings-average lui-font-bold')"
   ]
  },
  {
   "cell_type": "code",
   "execution_count": 58,
   "id": "dd9f87b3-1cc4-4227-9265-0ca34e43b94e",
   "metadata": {
    "tags": []
   },
   "outputs": [
    {
     "data": {
      "text/plain": [
       "[<div class=\"summary-ratings-count\">\n",
       " (3)\n",
       " </div>,\n",
       " <div class=\"summary-ratings-count\">\n",
       " (2)\n",
       " </div>,\n",
       " <div class=\"summary-ratings-count\">\n",
       " (8)\n",
       " </div>,\n",
       " <div class=\"summary-ratings-count\">\n",
       " (6)\n",
       " </div>,\n",
       " <div class=\"summary-ratings-count\">Write the first review</div>,\n",
       " <div class=\"summary-ratings-count\">Write the first review</div>,\n",
       " <div class=\"summary-ratings-count\">\n",
       " (7)\n",
       " </div>,\n",
       " <div class=\"summary-ratings-count\">\n",
       " (4)\n",
       " </div>,\n",
       " <div class=\"summary-ratings-count\">\n",
       " (3)\n",
       " </div>,\n",
       " <div class=\"summary-ratings-count\">\n",
       " (2)\n",
       " </div>]"
      ]
     },
     "execution_count": 58,
     "metadata": {},
     "output_type": "execute_result"
    }
   ],
   "source": [
    "soup.find_all('div', class_ = \"summary-ratings-value\")"
   ]
  },
  {
   "cell_type": "code",
   "execution_count": null,
   "id": "f0d691f9-daef-4b20-ab69-cc1c2433543e",
   "metadata": {},
   "outputs": [],
   "source": []
  },
  {
   "cell_type": "code",
   "execution_count": null,
   "id": "0673d774-7739-4336-9e22-0a88e0385c77",
   "metadata": {},
   "outputs": [],
   "source": []
  },
  {
   "cell_type": "code",
   "execution_count": 33,
   "id": "b9b8f9f2-0f85-42f1-afa9-6c007213dfb8",
   "metadata": {},
   "outputs": [
    {
     "data": {
      "text/plain": [
       "'https://www.local.ch/en/d/frick/5070/hospital/gesundheitszentrum-fricktal-ag-CkLCAnjKdgn156HuGGBuPA'"
      ]
     },
     "execution_count": 33,
     "metadata": {},
     "output_type": "execute_result"
    }
   ],
   "source": [
    "links[0][0].find('a')['href']"
   ]
  },
  {
   "cell_type": "code",
   "execution_count": null,
   "id": "c520c430-1bc1-4e0c-a26b-4d2423d4b644",
   "metadata": {},
   "outputs": [],
   "source": []
  },
  {
   "cell_type": "code",
   "execution_count": 41,
   "id": "58b254f9-6a4e-4703-8b51-3078e36273c0",
   "metadata": {
    "tags": []
   },
   "outputs": [
    {
     "data": {
      "text/plain": [
       "50"
      ]
     },
     "execution_count": 41,
     "metadata": {},
     "output_type": "execute_result"
    }
   ],
   "source": [
    "clinic_names = []\n",
    "for names in clinic_listings:\n",
    "    for n in names:\n",
    "        name_element = n.find(\"h2\", class_=\"lui-margin-vertical-zero card-info-title\")\n",
    "        if name_element:\n",
    "            name = name_element.text.strip()\n",
    "            clinic_names.append(name)\n",
    "len(clinic_names)"
   ]
  },
  {
   "cell_type": "code",
   "execution_count": 42,
   "id": "81e121c5-1e57-4e4f-8fef-971624ef26bb",
   "metadata": {},
   "outputs": [
    {
     "data": {
      "text/plain": [
       "(111, 111)"
      ]
     },
     "execution_count": 42,
     "metadata": {},
     "output_type": "execute_result"
    }
   ],
   "source": [
    "num_of_reviews = []\n",
    "ratings = []\n",
    "for num in clinic_count_reviews:\n",
    "    for n in num:\n",
    "        rating, rev = n.text.strip().split('\\n| ')\n",
    "        ratings.append(rating)\n",
    "        num_of_reviews.append(rev)\n",
    "len(ratings), len(num_of_reviews)"
   ]
  },
  {
   "cell_type": "code",
   "execution_count": 45,
   "id": "6db7ae46-b7f1-4a0e-ae9a-78ec786923bd",
   "metadata": {},
   "outputs": [
    {
     "data": {
      "text/plain": [
       "[<div class=\"entry-card-info-element entry-card-info-element-first\">\n",
       " <a class=\"card-info clearfix js-gtm-event\" data-gtm-json='{\"AverageRating\":3.8,\"DetailEntryCity\":\"Meyrin\",\"DetailEntryName\":\"Hôpital de La Tour\",\"EntryType\":\"Professional\",\"LocalCategory\":\"Clinic\",\"OnlineEntryID\":\"mNzp_Gui1oNGUmyShp-pPQ\",\"Position\":1,\"category\":\"Detail Entry Selected\",\"action\":\"click\",\"label\":\"Group 2 - Title\"}' href=\"https://www.local.ch/en/d/meyrin/1217/clinic/hopital-de-la-tour-mNzp_Gui1oNGUmyShp-pPQ\"><div class=\"card-info-element card-info-element-fixed card-info-element-column\">\n",
       " <div class=\"entry-logo\">\n",
       " <div class=\"entry-logo-content entry-logo-content-image\">\n",
       " <img alt=\"Hôpital de La Tour\" class=\"entry-logo-image hidden-xs hidden-sm\" src=\"https://images.services.local.ch/bp/localplace-logo/d6/d6e45127659a7fc8561578822e0862b22892720b/HDLT_logo_RVB.png?size=140x100&amp;v=1&amp;sig=465fad9586d28a24e14a8bc9f9bf9a36a5460540cf9da6f7839086f3c0274bd5\"/>\n",
       " <img alt=\"Hôpital de La Tour\" class=\"entry-logo-image hidden-md hidden-lg\" src=\"https://images.services.local.ch/bp/localplace-logo/d6/d6e45127659a7fc8561578822e0862b22892720b/HDLT_logo_RVB.png?size=100x75&amp;v=1&amp;sig=cd5e66e61a41fbc3477da9cfdaf536e9a15b57d483dd0a9bf53abc4a4ab1d65c\"/>\n",
       " </div>\n",
       " </div>\n",
       " </div>\n",
       " <div class=\"card-info-element\">\n",
       " <h2 class=\"lui-margin-vertical-zero card-info-title\">\n",
       " Hôpital de La Tour\n",
       " </h2>\n",
       " <div class=\"short-summary hidden-sm hidden-md hidden-lg\">\n",
       " <div class=\"short-summary-element short-summary-ratings\">\n",
       " <span class=\"icon-star-10 rating-stars-star\"></span><span class=\"icon-star-10 rating-stars-star\"></span><span class=\"icon-star-10 rating-stars-star\"></span><span class=\"rating-stars-star icon-star-08\"></span><span class=\"icon-star-00 rating-stars-star\"></span>\n",
       " <span class=\"small short-summary-ratings-count\">\n",
       " (13 ratings)\n",
       " </span>\n",
       " </div>\n",
       " </div>\n",
       " <div class=\"card-info-address\">\n",
       " <span>Avenue Jacob-Daniel Maillard 3, 1217 Meyrin</span>\n",
       " </div><div class=\"card-info-category\"><img alt=\"Clinic\" class=\"card-info-title-icon lui-margin-right-xxs\" src=\"https://images.services.local.ch/bp/localplace-icon/ae/ae0824a1ea4a6d345277f087b87046f90f8d4737/icon-medical.svg?v=1&amp;sig=c77cc4e5dea818cf84ade29430621dc75acc7ac6591102545c0933b6cfbc066f\"/><span>Clinic<span class=\"card-info-category-item-separator\"> • </span>Hospital<span class=\"card-info-category-item-separator\"> • </span>Cardiology<span class=\"card-info-category-item-separator\"> • </span>Orthopaedic surgery<span class=\"card-info-category-item-separator\"> • </span>Maternity<span class=\"card-info-category-item-separator\"> • </span>Doctors</span></div><div class=\"card-info-open hidden-print\">\n",
       " </div>\n",
       " </div>\n",
       " </a>\n",
       " </div>,\n",
       " <div class=\"entry-card-info-element entry-card-info-element-first\">\n",
       " <a class=\"card-info clearfix js-gtm-event\" data-gtm-json='{\"AverageRating\":null,\"DetailEntryCity\":\"Zürich\",\"DetailEntryName\":\"Schlaflabor Zürich AG\",\"EntryType\":\"Professional\",\"LocalCategory\":\"General internal medicine\",\"OnlineEntryID\":\"EJxHiFTDOvlbeZC7L9QF8w\",\"Position\":2,\"category\":\"Detail Entry Selected\",\"action\":\"click\",\"label\":\"Group 2 - Title\"}' href=\"https://www.local.ch/en/d/zuerich/8032/general-internal-medicine/schlaflabor-zuerich-ag-EJxHiFTDOvlbeZC7L9QF8w\"><div class=\"card-info-element card-info-element-fixed card-info-element-column\">\n",
       " <div class=\"entry-logo\">\n",
       " <div class=\"entry-logo-content entry-logo-content-image\">\n",
       " <img alt=\"Schlaflabor Zürich AG\" class=\"entry-logo-image hidden-xs hidden-sm\" src=\"https://images.services.local.ch/bp/localplace-logo/0d/0db2482b74749363aa87e92042b870e5bf0fe4fb/logo.jpg?size=140x100&amp;v=1&amp;sig=988f8697e652ae7489be769bf595a14b7af7b4485c8cca31df98cd5c485c1f8b\"/>\n",
       " <img alt=\"Schlaflabor Zürich AG\" class=\"entry-logo-image hidden-md hidden-lg\" src=\"https://images.services.local.ch/bp/localplace-logo/0d/0db2482b74749363aa87e92042b870e5bf0fe4fb/logo.jpg?size=100x75&amp;v=1&amp;sig=23315ba22e7a4ce9c7d8cac39871396b8cc9d212a1a031919098585eb7178769\"/>\n",
       " </div>\n",
       " </div>\n",
       " </div>\n",
       " <div class=\"card-info-element\">\n",
       " <h2 class=\"lui-margin-vertical-zero card-info-title\">\n",
       " Schlaflabor Zürich AG\n",
       " </h2>\n",
       " <div class=\"short-summary hidden-sm hidden-md hidden-lg\">\n",
       " </div>\n",
       " <div class=\"card-info-address\">\n",
       " <span>Sonnenbergstrasse 60, 8032 Zürich</span>\n",
       " </div><div class=\"card-info-category\"><img alt=\"General internal medicine\" class=\"card-info-title-icon lui-margin-right-xxs\" src=\"https://images.services.local.ch/bp/localplace-icon/ae/ae0824a1ea4a6d345277f087b87046f90f8d4737/icon-medical.svg?v=1&amp;sig=c77cc4e5dea818cf84ade29430621dc75acc7ac6591102545c0933b6cfbc066f\"/><span>General internal medicine<span class=\"card-info-category-item-separator\"> • </span>Private clinic<span class=\"card-info-category-item-separator\"> • </span>Clinic<span class=\"card-info-category-item-separator\"> • </span>Otorhinolaryngology<span class=\"card-info-category-item-separator\"> • </span>Psychiatry and psychotherapy<span class=\"card-info-category-item-separator\"> • </span>Oral and maxillofacial surgery<span class=\"card-info-category-item-separator\"> • </span>Neurology<span class=\"card-info-category-item-separator\"> • </span>Doctors</span></div><div class=\"card-info-open hidden-print\">\n",
       " <div class=\"open-info open-info-by-arrangement\">\n",
       " <span class=\"icon-time\"></span>\n",
       " <span>By appointment</span>\n",
       " </div>\n",
       " </div>\n",
       " </div>\n",
       " </a>\n",
       " </div>,\n",
       " <div class=\"entry-card-info-element entry-card-info-element-first\">\n",
       " <a class=\"card-info clearfix js-gtm-event\" data-gtm-json='{\"AverageRating\":5.0,\"DetailEntryCity\":\"Susch\",\"DetailEntryName\":\"Clinica Holistica Engiadina SA\",\"EntryType\":\"Professional\",\"LocalCategory\":\"Clinic\",\"OnlineEntryID\":\"hucRA6oy69mdwRumGsfENw\",\"Position\":1,\"category\":\"Detail Entry Selected\",\"action\":\"click\",\"label\":\"Group 2 - Title\"}' href=\"https://www.local.ch/en/d/susch/7542/clinic/clinica-holistica-engiadina-sa-hucRA6oy69mdwRumGsfENw\"><div class=\"card-info-element card-info-element-fixed card-info-element-column\">\n",
       " <div class=\"entry-logo\">\n",
       " <div class=\"entry-logo-content entry-logo-content-image\">\n",
       " <img alt=\"Clinica Holistica Engiadina SA\" class=\"entry-logo-image hidden-xs hidden-sm\" src=\"https://images.services.local.ch/bp/localplace-logo/45/4556cbfa29103ec4054c5f22f32ae5f297b78299/Logo.jpg?size=140x100&amp;v=1&amp;sig=f62d4c2e5fb3df5dd992d643f9885384fe662868e22442714c87e2ddcd49ad8d\"/>\n",
       " <img alt=\"Clinica Holistica Engiadina SA\" class=\"entry-logo-image hidden-md hidden-lg\" src=\"https://images.services.local.ch/bp/localplace-logo/45/4556cbfa29103ec4054c5f22f32ae5f297b78299/Logo.jpg?size=100x75&amp;v=1&amp;sig=5bca66d165d87ba16898efb995370bf7b1941df52055c9da25f064610456f7a0\"/>\n",
       " </div>\n",
       " </div>\n",
       " </div>\n",
       " <div class=\"card-info-element\">\n",
       " <h2 class=\"lui-margin-vertical-zero card-info-title\">\n",
       " Clinica Holistica Engiadina SA\n",
       " </h2>\n",
       " <div class=\"short-summary hidden-sm hidden-md hidden-lg\">\n",
       " <div class=\"short-summary-element short-summary-ratings\">\n",
       " <span class=\"icon-star-10 rating-stars-star\"></span><span class=\"icon-star-10 rating-stars-star\"></span><span class=\"icon-star-10 rating-stars-star\"></span><span class=\"icon-star-10 rating-stars-star\"></span><span class=\"icon-star-10 rating-stars-star\"></span>\n",
       " <span class=\"small short-summary-ratings-count\">\n",
       " (4 ratings)\n",
       " </span>\n",
       " </div>\n",
       " </div>\n",
       " <div class=\"card-info-address\">\n",
       " <span>Plaz 40, 7542 Susch</span>\n",
       " </div><div class=\"card-info-category\"><img alt=\"Clinic\" class=\"card-info-title-icon lui-margin-right-xxs\" src=\"https://images.services.local.ch/bp/localplace-icon/ae/ae0824a1ea4a6d345277f087b87046f90f8d4737/icon-medical.svg?v=1&amp;sig=c77cc4e5dea818cf84ade29430621dc75acc7ac6591102545c0933b6cfbc066f\"/><span>Clinic<span class=\"card-info-category-item-separator\"> • </span>Private clinic<span class=\"card-info-category-item-separator\"> • </span>Stress reduction<span class=\"card-info-category-item-separator\"> • </span>Psychiatry and psychotherapy</span></div><div class=\"card-info-open hidden-print\">\n",
       " </div>\n",
       " </div>\n",
       " </a>\n",
       " </div>,\n",
       " <div class=\"entry-card-info-element entry-card-info-element-first\">\n",
       " <a class=\"card-info clearfix js-gtm-event\" data-gtm-json='{\"AverageRating\":5.0,\"DetailEntryCity\":\"Zumikon\",\"DetailEntryName\":\"HandZentrum Hirslanden Zürich\",\"EntryType\":\"Professional\",\"LocalCategory\":\"Hospital\",\"OnlineEntryID\":\"KLk7UAO8MY4TqEjc_RimXQ\",\"Position\":2,\"category\":\"Detail Entry Selected\",\"action\":\"click\",\"label\":\"Group 1 - Title\"}' href=\"https://www.local.ch/en/d/zumikon/8126/hospital/handzentrum-hirslanden-zuerich-KLk7UAO8MY4TqEjc_RimXQ\"><div class=\"card-info-element card-info-element-fixed card-info-element-column\">\n",
       " <div class=\"entry-logo\">\n",
       " <div class=\"entry-logo-content entry-logo-content-image\">\n",
       " <img alt=\"HandZentrum Hirslanden Zürich\" class=\"entry-logo-image hidden-xs hidden-sm\" src=\"https://images.services.local.ch/bp/logo-ad/47/47de42ea6f272fc3d8a4ca6ce39653f93a5d122f/upload1.jpg?size=140x100&amp;v=1&amp;sig=561856551aec6ac9a0515bbfe691f4c12b4547f036b89987e2703c9f2aa68aac\"/>\n",
       " <img alt=\"HandZentrum Hirslanden Zürich\" class=\"entry-logo-image hidden-md hidden-lg\" src=\"https://images.services.local.ch/bp/logo-ad/47/47de42ea6f272fc3d8a4ca6ce39653f93a5d122f/upload1.jpg?size=100x75&amp;v=1&amp;sig=42f25c0c3e097baa9a38c0a2cb2cc479e328fba8fc9cbd2cdeca49933956e9a8\"/>\n",
       " </div>\n",
       " </div>\n",
       " </div>\n",
       " <div class=\"card-info-element\">\n",
       " <h2 class=\"lui-margin-vertical-zero card-info-title\">\n",
       " HandZentrum Hirslanden Zürich\n",
       " </h2>\n",
       " <div class=\"short-summary hidden-sm hidden-md hidden-lg\">\n",
       " <div class=\"short-summary-element short-summary-ratings\">\n",
       " <span class=\"icon-star-10 rating-stars-star\"></span><span class=\"icon-star-10 rating-stars-star\"></span><span class=\"icon-star-10 rating-stars-star\"></span><span class=\"icon-star-10 rating-stars-star\"></span><span class=\"icon-star-10 rating-stars-star\"></span>\n",
       " <span class=\"small short-summary-ratings-count\">\n",
       " (2 ratings)\n",
       " </span>\n",
       " </div>\n",
       " </div>\n",
       " <div class=\"card-info-address\">\n",
       " <span>Morgental 35, 8126 Zumikon</span>\n",
       " </div><div class=\"card-info-category\"><img alt=\"Hospital\" class=\"card-info-title-icon lui-margin-right-xxs\" src=\"https://images.services.local.ch/bp/localplace-icon/ae/ae0824a1ea4a6d345277f087b87046f90f8d4737/icon-medical.svg?v=1&amp;sig=c77cc4e5dea818cf84ade29430621dc75acc7ac6591102545c0933b6cfbc066f\"/><span>Hospital<span class=\"card-info-category-item-separator\"> • </span>Clinic<span class=\"card-info-category-item-separator\"> • </span>Hand surgery</span></div><div class=\"card-info-open hidden-print\">\n",
       " <div class=\"open-info open-info-closed\">\n",
       " <span class=\"icon-time\"></span>\n",
       " <span>Currently closed</span>\n",
       " </div>\n",
       " </div>\n",
       " </div>\n",
       " </a>\n",
       " </div>,\n",
       " <div class=\"entry-card-info-element entry-card-info-element-first\">\n",
       " <a class=\"card-info clearfix js-gtm-event\" data-gtm-json='{\"AverageRating\":4.0,\"DetailEntryCity\":\"Neuenhof\",\"DetailEntryName\":\"entero Klinik\",\"EntryType\":\"Professional\",\"LocalCategory\":\"Addiction treatment\",\"OnlineEntryID\":\"U7wzb-npkLDa1bzD2ft_jA\",\"Position\":3,\"category\":\"Detail Entry Selected\",\"action\":\"click\",\"label\":\"Group 2 - Title\"}' href=\"https://www.local.ch/en/d/neuenhof/5432/addiction-treatment/entero-klinik-U7wzb-npkLDa1bzD2ft_jA\"><div class=\"card-info-element card-info-element-fixed card-info-element-column\">\n",
       " <div class=\"entry-logo\">\n",
       " <div class=\"entry-logo-content entry-logo-content-image\">\n",
       " <img alt=\"entero Klinik\" class=\"entry-logo-image hidden-xs hidden-sm\" src=\"https://images.services.local.ch/bp/localplace-logo/73/73e561d679086f656e998d7c11e320ef10bf99d2/48A4EAB5-F8E4-4683-A6A8-CBD7E19CE8E3.jpg?size=140x100&amp;v=1&amp;sig=ee84dc211ae1e83944f711636d7dc8afb22cbe4666b90145102936745c6220c8\"/>\n",
       " <img alt=\"entero Klinik\" class=\"entry-logo-image hidden-md hidden-lg\" src=\"https://images.services.local.ch/bp/localplace-logo/73/73e561d679086f656e998d7c11e320ef10bf99d2/48A4EAB5-F8E4-4683-A6A8-CBD7E19CE8E3.jpg?size=100x75&amp;v=1&amp;sig=b12cd0537e96eccd22b826118927bd149a08f2542c12a8879141ea4c9d29d1cd\"/>\n",
       " </div>\n",
       " </div>\n",
       " </div>\n",
       " <div class=\"card-info-element\">\n",
       " <h2 class=\"lui-margin-vertical-zero card-info-title\">\n",
       " entero Klinik\n",
       " </h2>\n",
       " <div class=\"short-summary hidden-sm hidden-md hidden-lg\">\n",
       " <div class=\"short-summary-element short-summary-ratings\">\n",
       " <span class=\"icon-star-10 rating-stars-star\"></span><span class=\"icon-star-10 rating-stars-star\"></span><span class=\"icon-star-10 rating-stars-star\"></span><span class=\"icon-star-10 rating-stars-star\"></span><span class=\"icon-star-00 rating-stars-star\"></span>\n",
       " <span class=\"small short-summary-ratings-count\">\n",
       " (4 ratings)\n",
       " </span>\n",
       " </div>\n",
       " </div>\n",
       " <div class=\"card-info-address\">\n",
       " <span>Zürcherstrasse 52, 5432 Neuenhof</span>\n",
       " </div><div class=\"card-info-category\"><img alt=\"Addiction treatment\" class=\"card-info-title-icon lui-margin-right-xxs\" src=\"https://images.services.local.ch/bp/localplace-icon/ae/ae0824a1ea4a6d345277f087b87046f90f8d4737/icon-medical.svg?v=1&amp;sig=c77cc4e5dea818cf84ade29430621dc75acc7ac6591102545c0933b6cfbc066f\"/><span>Addiction treatment<span class=\"card-info-category-item-separator\"> • </span>Clinic</span></div><div class=\"card-info-open hidden-print\">\n",
       " </div>\n",
       " </div>\n",
       " </a>\n",
       " </div>,\n",
       " <div class=\"entry-card-info-element entry-card-info-element-first\">\n",
       " <a class=\"card-info clearfix js-gtm-event\" data-gtm-json='{\"AverageRating\":null,\"DetailEntryCity\":\"Brugg AG\",\"DetailEntryName\":\"POLYMEDES Schmerzzentrum\",\"EntryType\":\"Professional\",\"LocalCategory\":\"Pain therapy\",\"OnlineEntryID\":\"h-57jHgUbTTJ_6I_IRQELA\",\"Position\":4,\"category\":\"Detail Entry Selected\",\"action\":\"click\",\"label\":\"Group 2 - Title\"}' href=\"https://www.local.ch/en/d/brugg-ag/5200/pain-therapy/polymedes-schmerzzentrum-h-57jHgUbTTJ_6I_IRQELA\"><div class=\"card-info-element card-info-element-fixed card-info-element-column\">\n",
       " <div class=\"entry-logo\">\n",
       " <div class=\"entry-logo-content entry-logo-content-image\">\n",
       " <img alt=\"POLYMEDES Schmerzzentrum\" class=\"entry-logo-image hidden-xs hidden-sm\" src=\"https://images.services.local.ch/bp/logo-ad/f6/f6eb81a874cabad824a17d1e8cc2c8f02dde5ca3/upload1.jpg?size=140x100&amp;v=1&amp;sig=bb0236ef4cd0c93e4ff30c54c3046438b6e97388875fb7da8b035f1c79253bf0\"/>\n",
       " <img alt=\"POLYMEDES Schmerzzentrum\" class=\"entry-logo-image hidden-md hidden-lg\" src=\"https://images.services.local.ch/bp/logo-ad/f6/f6eb81a874cabad824a17d1e8cc2c8f02dde5ca3/upload1.jpg?size=100x75&amp;v=1&amp;sig=33c51eb011eb4ae9911ab861dfe3ed4768b21212059760375da7622f76cb7a3b\"/>\n",
       " </div>\n",
       " </div>\n",
       " </div>\n",
       " <div class=\"card-info-element\">\n",
       " <h2 class=\"lui-margin-vertical-zero card-info-title\">\n",
       " POLYMEDES Schmerzzentrum\n",
       " </h2>\n",
       " <div class=\"short-summary hidden-sm hidden-md hidden-lg\">\n",
       " </div>\n",
       " <div class=\"card-info-address\">\n",
       " <span>Fröhlichstrasse 7, 5200 Brugg AG</span>\n",
       " </div><div class=\"card-info-category\"><img alt=\"Pain therapy\" class=\"card-info-title-icon lui-margin-right-xxs\" src=\"https://images.services.local.ch/bp/localplace-icon/72/72b18ad0d367ea5f6482a796ee2aa3110b801817/icon-alternative-medicine.svg?v=1&amp;sig=fdaed3526e10030ef7521c5a060cdbbd973818a0edfdd469c0f9e395662eacd7\"/><span>Pain therapy<span class=\"card-info-category-item-separator\"> • </span>Private clinic<span class=\"card-info-category-item-separator\"> • </span>Clinic<span class=\"card-info-category-item-separator\"> • </span>Back therapy<span class=\"card-info-category-item-separator\"> • </span>Rheumatology</span></div><div class=\"card-info-open hidden-print\">\n",
       " <div class=\"open-info open-info-closed\">\n",
       " <span class=\"icon-time\"></span>\n",
       " <span>Currently closed</span>\n",
       " </div>\n",
       " </div>\n",
       " </div>\n",
       " </a>\n",
       " </div>,\n",
       " <div class=\"entry-card-info-element entry-card-info-element-first\">\n",
       " <a class=\"card-info clearfix js-gtm-event\" data-gtm-json='{\"AverageRating\":5.0,\"DetailEntryCity\":\"Zürich\",\"DetailEntryName\":\"HerzGefässKlinik Bethanien\",\"EntryType\":\"Professional\",\"LocalCategory\":\"Clinic\",\"OnlineEntryID\":\"MAxOmiMu-GQx70ACHMMhMw\",\"Position\":5,\"category\":\"Detail Entry Selected\",\"action\":\"click\",\"label\":\"Group 2 - Title\"}' href=\"https://www.local.ch/en/d/zuerich/8044/clinic/herzgefaessklinik-bethanien-MAxOmiMu-GQx70ACHMMhMw\"><div class=\"card-info-element card-info-element-fixed card-info-element-column\">\n",
       " <div class=\"entry-logo\">\n",
       " <div class=\"entry-logo-content entry-logo-content-image\">\n",
       " <img alt=\"HerzGefässKlinik Bethanien\" class=\"entry-logo-image hidden-xs hidden-sm\" src=\"https://images.services.local.ch/bp/localplace-logo/67/67a6132ca03dbd9e0bf10b2aaa6ef3dab2b03bfb/Logo.jpg?size=140x100&amp;v=1&amp;sig=f2e1bcf9196908adc56f46a496cace6c3c83b8a6fd68e8715758b60729b53103\"/>\n",
       " <img alt=\"HerzGefässKlinik Bethanien\" class=\"entry-logo-image hidden-md hidden-lg\" src=\"https://images.services.local.ch/bp/localplace-logo/67/67a6132ca03dbd9e0bf10b2aaa6ef3dab2b03bfb/Logo.jpg?size=100x75&amp;v=1&amp;sig=0ab15612e5e6d62059a88af0489c94695c17da35314ad1f3ee355aca3392ab27\"/>\n",
       " </div>\n",
       " </div>\n",
       " </div>\n",
       " <div class=\"card-info-element\">\n",
       " <h2 class=\"lui-margin-vertical-zero card-info-title\">\n",
       " HerzGefässKlinik Bethanien\n",
       " </h2>\n",
       " <div class=\"short-summary hidden-sm hidden-md hidden-lg\">\n",
       " <div class=\"short-summary-element short-summary-ratings\">\n",
       " <span class=\"icon-star-10 rating-stars-star\"></span><span class=\"icon-star-10 rating-stars-star\"></span><span class=\"icon-star-10 rating-stars-star\"></span><span class=\"icon-star-10 rating-stars-star\"></span><span class=\"icon-star-10 rating-stars-star\"></span>\n",
       " <span class=\"small short-summary-ratings-count\">\n",
       " (6 ratings)\n",
       " </span>\n",
       " </div>\n",
       " </div>\n",
       " <div class=\"card-info-address\">\n",
       " <span>Toblerstrasse 51, 8044 Zürich</span>\n",
       " </div><div class=\"card-info-category\"><img alt=\"Clinic\" class=\"card-info-title-icon lui-margin-right-xxs\" src=\"https://images.services.local.ch/bp/localplace-icon/ae/ae0824a1ea4a6d345277f087b87046f90f8d4737/icon-medical.svg?v=1&amp;sig=c77cc4e5dea818cf84ade29430621dc75acc7ac6591102545c0933b6cfbc066f\"/><span>Clinic<span class=\"card-info-category-item-separator\"> • </span>Hospital<span class=\"card-info-category-item-separator\"> • </span>Cardiology<span class=\"card-info-category-item-separator\"> • </span>Cardiac and thoracic vascular surgery<span class=\"card-info-category-item-separator\"> • </span>Phlebology<span class=\"card-info-category-item-separator\"> • </span>General internal medicine<span class=\"card-info-category-item-separator\"> • </span>Hospital supply</span></div><div class=\"card-info-open hidden-print\">\n",
       " <div class=\"open-info open-info-closed\">\n",
       " <span class=\"icon-time\"></span>\n",
       " <span>Currently closed</span>\n",
       " </div>\n",
       " </div>\n",
       " </div>\n",
       " </a>\n",
       " </div>,\n",
       " <div class=\"entry-card-info-element entry-card-info-element-first\">\n",
       " <a class=\"card-info clearfix js-gtm-event\" data-gtm-json=\"{&quot;AverageRating&quot;:4.7,&quot;DetailEntryCity&quot;:&quot;Verbier&quot;,&quot;DetailEntryName&quot;:&quot;Centre dentaire d'altitude de Verbier&quot;,&quot;EntryType&quot;:&quot;Professional&quot;,&quot;LocalCategory&quot;:&quot;Dentist&quot;,&quot;OnlineEntryID&quot;:&quot;EZoQaDEDpS_XxnF0ABCXXQ&quot;,&quot;Position&quot;:6,&quot;category&quot;:&quot;Detail Entry Selected&quot;,&quot;action&quot;:&quot;click&quot;,&quot;label&quot;:&quot;Group 2 - Title&quot;}\" href=\"https://www.local.ch/en/d/verbier/1936/dentist/centre-dentaire-d-altitude-de-verbier-EZoQaDEDpS_XxnF0ABCXXQ\"><div class=\"card-info-element card-info-element-fixed card-info-element-column\">\n",
       " <div class=\"entry-logo\">\n",
       " <div class=\"entry-logo-content entry-logo-content-image\">\n",
       " <img alt=\"Centre dentaire d'altitude de Verbier\" class=\"entry-logo-image hidden-xs hidden-sm\" src=\"https://images.services.local.ch/bp/localplace-logo/d3/d3f1947240f9ee5071797fe15c8cede7e898c6f9/Logo%20Pure%20clinic%20Group%20SA%20_002_.png?size=140x100&amp;v=1&amp;sig=2a4f12422a186e5059bf917be0a2b5df8bdc0143e8c3ffad4e4c7e2e369a559d\"/>\n",
       " <img alt=\"Centre dentaire d'altitude de Verbier\" class=\"entry-logo-image hidden-md hidden-lg\" src=\"https://images.services.local.ch/bp/localplace-logo/d3/d3f1947240f9ee5071797fe15c8cede7e898c6f9/Logo%20Pure%20clinic%20Group%20SA%20_002_.png?size=100x75&amp;v=1&amp;sig=6456429860d15c59296b6b854c90eb0ca4bc9e1ec14609c9a78efe50bff97089\"/>\n",
       " </div>\n",
       " </div>\n",
       " </div>\n",
       " <div class=\"card-info-element\">\n",
       " <h2 class=\"lui-margin-vertical-zero card-info-title\">\n",
       " Centre dentaire d'altitude de Verbier\n",
       " </h2>\n",
       " <div class=\"short-summary hidden-sm hidden-md hidden-lg\">\n",
       " <div class=\"short-summary-element short-summary-ratings\">\n",
       " <span class=\"icon-star-10 rating-stars-star\"></span><span class=\"icon-star-10 rating-stars-star\"></span><span class=\"icon-star-10 rating-stars-star\"></span><span class=\"icon-star-10 rating-stars-star\"></span><span class=\"rating-stars-star icon-star-07\"></span>\n",
       " <span class=\"small short-summary-ratings-count\">\n",
       " (269 ratings)\n",
       " </span>\n",
       " </div>\n",
       " </div>\n",
       " <div class=\"card-info-address\">\n",
       " <span>Place Centrale, 1936 Verbier</span>\n",
       " </div><div class=\"card-info-category\"><img alt=\"Dentist\" class=\"card-info-title-icon lui-margin-right-xxs\" src=\"https://images.services.local.ch/bp/localplace-icon/ca/ca5fb7e6b5e778e693e82bc6821c6323e3373b3b/icon-dental.svg?v=1&amp;sig=e3c082d54695ea53802baab94341643fc251a5e98871d8b7e60b51b16ca9712e\"/><span>Dentist<span class=\"card-info-category-item-separator\"> • </span>Dental clinic<span class=\"card-info-category-item-separator\"> • </span>Dental hygiene<span class=\"card-info-category-item-separator\"> • </span>Clinic</span></div><div class=\"card-info-open hidden-print\">\n",
       " <div class=\"open-info open-info-closed\">\n",
       " <span class=\"icon-time\"></span>\n",
       " <span>Currently closed</span>\n",
       " </div>\n",
       " </div>\n",
       " </div>\n",
       " </a>\n",
       " </div>,\n",
       " <div class=\"entry-card-info-element entry-card-info-element-first\">\n",
       " <a class=\"card-info clearfix js-gtm-event\" data-gtm-json='{\"AverageRating\":5.0,\"DetailEntryCity\":\"Lausanne\",\"DetailEntryName\":\"Zanzi Clinic\",\"EntryType\":\"Professional\",\"LocalCategory\":\"Plastic, reconstructive and aesthetic surgery\",\"OnlineEntryID\":\"7myfIEoJbBZFREwc_vol0w\",\"Position\":7,\"category\":\"Detail Entry Selected\",\"action\":\"click\",\"label\":\"Group 2 - Title\"}' href=\"https://www.local.ch/en/d/lausanne/1003/plastic-reconstructive-and-aesthetic-surgery/zanzi-clinic-7myfIEoJbBZFREwc_vol0w\"><div class=\"card-info-element card-info-element-fixed card-info-element-column\">\n",
       " <div class=\"entry-logo\">\n",
       " <div class=\"entry-logo-content entry-logo-content-image\">\n",
       " <img alt=\"Zanzi Clinic\" class=\"entry-logo-image hidden-xs hidden-sm\" src=\"https://images.services.local.ch/bp/localplace-logo/9e/9ef1d52435f62f11427e53448014b06e934e122f/Zanzi_clinic_logo.png?size=140x100&amp;v=1&amp;sig=40fe784a9c24aed3c13c8f4beb70b9f09f748147abd7eaaa4f8b08763a11ad23\"/>\n",
       " <img alt=\"Zanzi Clinic\" class=\"entry-logo-image hidden-md hidden-lg\" src=\"https://images.services.local.ch/bp/localplace-logo/9e/9ef1d52435f62f11427e53448014b06e934e122f/Zanzi_clinic_logo.png?size=100x75&amp;v=1&amp;sig=baa32c9bdf719d7a502a1e6abe2d8f6c082d17e46d7d02ff4dc97379ed332bcd\"/>\n",
       " </div>\n",
       " </div>\n",
       " </div>\n",
       " <div class=\"card-info-element\">\n",
       " <h2 class=\"lui-margin-vertical-zero card-info-title\">\n",
       " Zanzi Clinic\n",
       " </h2>\n",
       " <div class=\"short-summary hidden-sm hidden-md hidden-lg\">\n",
       " <div class=\"short-summary-element short-summary-ratings\">\n",
       " <span class=\"icon-star-10 rating-stars-star\"></span><span class=\"icon-star-10 rating-stars-star\"></span><span class=\"icon-star-10 rating-stars-star\"></span><span class=\"icon-star-10 rating-stars-star\"></span><span class=\"icon-star-10 rating-stars-star\"></span>\n",
       " <span class=\"small short-summary-ratings-count\">\n",
       " (1 rating)\n",
       " </span>\n",
       " </div>\n",
       " </div>\n",
       " <div class=\"card-info-address\">\n",
       " <span>Place Bel-Air 1, 1003 Lausanne</span>\n",
       " </div><div class=\"card-info-category\"><img alt=\"Plastic, reconstructive and aesthetic surgery\" class=\"card-info-title-icon lui-margin-right-xxs\" src=\"https://images.services.local.ch/bp/localplace-icon/ae/ae0824a1ea4a6d345277f087b87046f90f8d4737/icon-medical.svg?v=1&amp;sig=c77cc4e5dea818cf84ade29430621dc75acc7ac6591102545c0933b6cfbc066f\"/><span>Plastic, reconstructive and aesthetic surgery<span class=\"card-info-category-item-separator\"> • </span>Clinic</span></div><div class=\"card-info-open hidden-print\">\n",
       " <div class=\"open-info open-info-closed\">\n",
       " <span class=\"icon-time\"></span>\n",
       " <span>Currently closed</span>\n",
       " </div>\n",
       " </div>\n",
       " </div>\n",
       " </a>\n",
       " </div>]"
      ]
     },
     "execution_count": 45,
     "metadata": {},
     "output_type": "execute_result"
    }
   ],
   "source": [
    "links[3]"
   ]
  },
  {
   "cell_type": "code",
   "execution_count": null,
   "id": "00aaaa4a-a718-4f3d-80e6-ae7f9a9a73a5",
   "metadata": {},
   "outputs": [],
   "source": []
  }
 ],
 "metadata": {
  "kernelspec": {
   "display_name": "Python 3 (ipykernel)",
   "language": "python",
   "name": "python3"
  },
  "language_info": {
   "codemirror_mode": {
    "name": "ipython",
    "version": 3
   },
   "file_extension": ".py",
   "mimetype": "text/x-python",
   "name": "python",
   "nbconvert_exporter": "python",
   "pygments_lexer": "ipython3",
   "version": "3.9.13"
  }
 },
 "nbformat": 4,
 "nbformat_minor": 5
}
