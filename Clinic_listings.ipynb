{
 "cells": [
  {
   "cell_type": "code",
   "execution_count": 1,
   "id": "8a364c47-fa9a-4def-a352-55e0307887b1",
   "metadata": {},
   "outputs": [],
   "source": [
    "import pandas as pd\n",
    "import numpy as np\n",
    "import requests\n",
    "from time import sleep\n",
    "from bs4 import BeautifulSoup\n",
    "from concurrent.futures import ThreadPoolExecutor"
   ]
  },
  {
   "cell_type": "code",
   "execution_count": 99,
   "id": "4f4c7fba-331f-4012-9cc9-4ce886bd9fce",
   "metadata": {
    "tags": []
   },
   "outputs": [
    {
     "name": "stdout",
     "output_type": "stream",
     "text": [
      "Page 1 completed\n",
      "Page 2 completed\n",
      "Page 3 completed\n",
      "Page 4 completed\n"
     ]
    },
    {
     "ename": "KeyboardInterrupt",
     "evalue": "",
     "output_type": "error",
     "traceback": [
      "\u001b[1;31m---------------------------------------------------------------------------\u001b[0m",
      "\u001b[1;31mKeyboardInterrupt\u001b[0m                         Traceback (most recent call last)",
      "\u001b[1;32m~\\AppData\\Local\\Temp\\ipykernel_5272\\622391389.py\u001b[0m in \u001b[0;36m<module>\u001b[1;34m\u001b[0m\n\u001b[0;32m     33\u001b[0m     \u001b[1;32mwhile\u001b[0m \u001b[1;32mTrue\u001b[0m\u001b[1;33m:\u001b[0m\u001b[1;33m\u001b[0m\u001b[1;33m\u001b[0m\u001b[0m\n\u001b[0;32m     34\u001b[0m         \u001b[0mfuture\u001b[0m \u001b[1;33m=\u001b[0m \u001b[0mexecutor\u001b[0m\u001b[1;33m.\u001b[0m\u001b[0msubmit\u001b[0m\u001b[1;33m(\u001b[0m\u001b[0mget_clinic_data\u001b[0m\u001b[1;33m,\u001b[0m \u001b[0mpage_number\u001b[0m\u001b[1;33m)\u001b[0m\u001b[1;33m\u001b[0m\u001b[1;33m\u001b[0m\u001b[0m\n\u001b[1;32m---> 35\u001b[1;33m         \u001b[0mresult\u001b[0m \u001b[1;33m=\u001b[0m \u001b[0mfuture\u001b[0m\u001b[1;33m.\u001b[0m\u001b[0mresult\u001b[0m\u001b[1;33m(\u001b[0m\u001b[1;33m)\u001b[0m\u001b[1;33m\u001b[0m\u001b[1;33m\u001b[0m\u001b[0m\n\u001b[0m\u001b[0;32m     36\u001b[0m         \u001b[1;32mif\u001b[0m \u001b[0mresult\u001b[0m\u001b[1;33m:\u001b[0m\u001b[1;33m\u001b[0m\u001b[1;33m\u001b[0m\u001b[0m\n\u001b[0;32m     37\u001b[0m             \u001b[1;32mif\u001b[0m \u001b[0mresult\u001b[0m\u001b[1;33m[\u001b[0m\u001b[1;36m0\u001b[0m\u001b[1;33m]\u001b[0m\u001b[1;33m:\u001b[0m\u001b[1;33m\u001b[0m\u001b[1;33m\u001b[0m\u001b[0m\n",
      "\u001b[1;32m~\\anaconda3\\lib\\concurrent\\futures\\_base.py\u001b[0m in \u001b[0;36mresult\u001b[1;34m(self, timeout)\u001b[0m\n\u001b[0;32m    439\u001b[0m                     \u001b[1;32mreturn\u001b[0m \u001b[0mself\u001b[0m\u001b[1;33m.\u001b[0m\u001b[0m__get_result\u001b[0m\u001b[1;33m(\u001b[0m\u001b[1;33m)\u001b[0m\u001b[1;33m\u001b[0m\u001b[1;33m\u001b[0m\u001b[0m\n\u001b[0;32m    440\u001b[0m \u001b[1;33m\u001b[0m\u001b[0m\n\u001b[1;32m--> 441\u001b[1;33m                 \u001b[0mself\u001b[0m\u001b[1;33m.\u001b[0m\u001b[0m_condition\u001b[0m\u001b[1;33m.\u001b[0m\u001b[0mwait\u001b[0m\u001b[1;33m(\u001b[0m\u001b[0mtimeout\u001b[0m\u001b[1;33m)\u001b[0m\u001b[1;33m\u001b[0m\u001b[1;33m\u001b[0m\u001b[0m\n\u001b[0m\u001b[0;32m    442\u001b[0m \u001b[1;33m\u001b[0m\u001b[0m\n\u001b[0;32m    443\u001b[0m                 \u001b[1;32mif\u001b[0m \u001b[0mself\u001b[0m\u001b[1;33m.\u001b[0m\u001b[0m_state\u001b[0m \u001b[1;32min\u001b[0m \u001b[1;33m[\u001b[0m\u001b[0mCANCELLED\u001b[0m\u001b[1;33m,\u001b[0m \u001b[0mCANCELLED_AND_NOTIFIED\u001b[0m\u001b[1;33m]\u001b[0m\u001b[1;33m:\u001b[0m\u001b[1;33m\u001b[0m\u001b[1;33m\u001b[0m\u001b[0m\n",
      "\u001b[1;32m~\\anaconda3\\lib\\threading.py\u001b[0m in \u001b[0;36mwait\u001b[1;34m(self, timeout)\u001b[0m\n\u001b[0;32m    310\u001b[0m         \u001b[1;32mtry\u001b[0m\u001b[1;33m:\u001b[0m    \u001b[1;31m# restore state no matter what (e.g., KeyboardInterrupt)\u001b[0m\u001b[1;33m\u001b[0m\u001b[1;33m\u001b[0m\u001b[0m\n\u001b[0;32m    311\u001b[0m             \u001b[1;32mif\u001b[0m \u001b[0mtimeout\u001b[0m \u001b[1;32mis\u001b[0m \u001b[1;32mNone\u001b[0m\u001b[1;33m:\u001b[0m\u001b[1;33m\u001b[0m\u001b[1;33m\u001b[0m\u001b[0m\n\u001b[1;32m--> 312\u001b[1;33m                 \u001b[0mwaiter\u001b[0m\u001b[1;33m.\u001b[0m\u001b[0macquire\u001b[0m\u001b[1;33m(\u001b[0m\u001b[1;33m)\u001b[0m\u001b[1;33m\u001b[0m\u001b[1;33m\u001b[0m\u001b[0m\n\u001b[0m\u001b[0;32m    313\u001b[0m                 \u001b[0mgotit\u001b[0m \u001b[1;33m=\u001b[0m \u001b[1;32mTrue\u001b[0m\u001b[1;33m\u001b[0m\u001b[1;33m\u001b[0m\u001b[0m\n\u001b[0;32m    314\u001b[0m             \u001b[1;32melse\u001b[0m\u001b[1;33m:\u001b[0m\u001b[1;33m\u001b[0m\u001b[1;33m\u001b[0m\u001b[0m\n",
      "\u001b[1;31mKeyboardInterrupt\u001b[0m: "
     ]
    }
   ],
   "source": [
    "def get_clinic_data(page_number):\n",
    "    url = f\"https://www.local.ch/en/q/Switzerland/clinique?page={page_number}&rid=j6VE&slot=tel\"\n",
    "    response = requests.get(url, timeout = 20)\n",
    "\n",
    "    if response.status_code == 200:\n",
    "        soup = BeautifulSoup(response.content, \"html.parser\")\n",
    "        listings = soup.find_all(\"div\", class_=\"card-info-element\")\n",
    "        addresses = soup.find_all('div', class_ = \"card-info-address\")\n",
    "        cl_type = soup.find_all('div', class_ = \"card-info-category\")\n",
    "        link = soup.find_all('div', \"entry-card-info-element entry-card-info-element-first\")\n",
    "        rating = soup.find_all('div', class_ = \"summary-ratings-count\")\n",
    "        review = soup.find_all('span', class_ = 'summary-ratings-average lui-font-bold')\n",
    "        if rating:\n",
    "            if review:\n",
    "                return (listings, addresses, cl_type, link, rating, review)\n",
    "            else:\n",
    "                return (listings, addresses, cl_type, link, [], [])\n",
    "\n",
    "        else:\n",
    "            return None\n",
    "    else:\n",
    "        return None\n",
    "\n",
    "page_number = 1\n",
    "clinic_listings = []\n",
    "clinic_addresses = []\n",
    "clinic_type = []\n",
    "clinic_reviews = []\n",
    "clinic_ratings = []\n",
    "links = []\n",
    "\n",
    "with ThreadPoolExecutor() as executor:\n",
    "    while True:\n",
    "        future = executor.submit(get_clinic_data, page_number)\n",
    "        result = future.result()\n",
    "        if result:\n",
    "            if result[0]:\n",
    "                clinic_listings.extend(result[0])\n",
    "                clinic_addresses.extend(result[1])\n",
    "                clinic_type.extend(result[2])\n",
    "                links.extend(result[3])\n",
    "                clinic_reviews.extend(result[5])\n",
    "                clinic_ratings.extend(result[4])\n",
    "\n",
    "                print(f'Page {page_number} completed')\n",
    "\n",
    "                page_number += 1\n",
    "        else:\n",
    "            break\n",
    "\n",
    "print(f\"Number of clinic listings: {len(clinic_listings)}\")\n"
   ]
  },
  {
   "cell_type": "code",
   "execution_count": 22,
   "id": "bd383f88-f0a0-44d1-94f0-e272ff5a15ca",
   "metadata": {},
   "outputs": [
    {
     "data": {
      "text/plain": [
       "4"
      ]
     },
     "execution_count": 22,
     "metadata": {},
     "output_type": "execute_result"
    }
   ],
   "source": [
    "len(get_clinic_data(1))"
   ]
  },
  {
   "cell_type": "code",
   "execution_count": 100,
   "id": "a9a28887-b470-4156-a44a-98726565af7e",
   "metadata": {},
   "outputs": [
    {
     "name": "stdout",
     "output_type": "stream",
     "text": [
      "80\n",
      "40\n",
      "40\n",
      "30\n",
      "38\n",
      "38\n"
     ]
    }
   ],
   "source": [
    "# Initialize an empty list to store the clinic listings\n",
    "print(len(clinic_listings))\n",
    "print(len(clinic_addresses))\n",
    "print(len(clinic_type))\n",
    "print(len(clinic_reviews))\n",
    "print(len(clinic_ratings))\n",
    "print(len(links))"
   ]
  },
  {
   "cell_type": "code",
   "execution_count": 101,
   "id": "ee601bad-41e7-413d-b554-a52ce35f65a0",
   "metadata": {
    "tags": []
   },
   "outputs": [
    {
     "data": {
      "text/plain": [
       "40"
      ]
     },
     "execution_count": 101,
     "metadata": {},
     "output_type": "execute_result"
    }
   ],
   "source": [
    "clinic_names = []\n",
    "for names in clinic_listings:\n",
    "    try:\n",
    "        name_element = names.find(\"h2\", class_=\"lui-margin-vertical-zero card-info-title\")\n",
    "        name = name_element.text.strip()\n",
    "        clinic_names.append(name)\n",
    "    except AttributeError:\n",
    "        continue\n",
    "len(clinic_names)"
   ]
  },
  {
   "cell_type": "code",
   "execution_count": 102,
   "id": "bffa1094-55c0-40ea-b6a9-4f5fb07b96ce",
   "metadata": {
    "tags": []
   },
   "outputs": [
    {
     "data": {
      "text/plain": [
       "40"
      ]
     },
     "execution_count": 102,
     "metadata": {},
     "output_type": "execute_result"
    }
   ],
   "source": [
    "clinic_address = []\n",
    "for address in clinic_addresses:\n",
    "\n",
    "    address = address.text.strip()\n",
    "    clinic_address.append(address)\n",
    "len(clinic_address)"
   ]
  },
  {
   "cell_type": "code",
   "execution_count": 103,
   "id": "b5c8f5ff-22e7-42ef-8f8e-9aeeb7652208",
   "metadata": {},
   "outputs": [
    {
     "data": {
      "text/plain": [
       "40"
      ]
     },
     "execution_count": 103,
     "metadata": {},
     "output_type": "execute_result"
    }
   ],
   "source": [
    "type_of_clinic = []\n",
    "for type_ in clinic_type:\n",
    "    type_of_clinic.append(type_.text.split(' • ')[0])\n",
    "len(type_of_clinic) "
   ]
  },
  {
   "cell_type": "code",
   "execution_count": 104,
   "id": "80b6e851-dd14-418c-a131-d530f04dfdb9",
   "metadata": {},
   "outputs": [
    {
     "data": {
      "text/plain": [
       "30"
      ]
     },
     "execution_count": 104,
     "metadata": {},
     "output_type": "execute_result"
    }
   ],
   "source": [
    "clinic_review = []\n",
    "for rev in clinic_reviews:\n",
    "    clinic_review.append(rev.text)\n",
    "len(clinic_review)\n",
    "# clinic_reviews.find('div', \"feedback-summary-ratings-value lui-margin-bottom-xxs\").find('span', class_ = \"feedback-summary-ratings-average lui-font-bold\").text"
   ]
  },
  {
   "cell_type": "code",
   "execution_count": 105,
   "id": "b570f5b3-80b1-48fa-8668-44e268b13057",
   "metadata": {},
   "outputs": [
    {
     "data": {
      "text/plain": [
       "38"
      ]
     },
     "execution_count": 105,
     "metadata": {},
     "output_type": "execute_result"
    }
   ],
   "source": [
    "ratings = []\n",
    "for num in clinic_ratings:\n",
    "    if num.text == 'Write the first review':\n",
    "        ratings.append(None)\n",
    "    else:\n",
    "        rating = num.text.strip().split('\\n| ')\n",
    "        ratings.append(rating)\n",
    "len(ratings)"
   ]
  },
  {
   "cell_type": "code",
   "execution_count": 93,
   "id": "e964b300-6642-41dd-ad60-4e691172ce4c",
   "metadata": {},
   "outputs": [
    {
     "data": {
      "text/plain": [
       "'Write the first review'"
      ]
     },
     "execution_count": 93,
     "metadata": {},
     "output_type": "execute_result"
    }
   ],
   "source": [
    "clinic_ratings[5].text"
   ]
  },
  {
   "cell_type": "code",
   "execution_count": 82,
   "id": "14acc74a-b8e2-4cac-b9d9-5263ef9686c0",
   "metadata": {
    "collapsed": true,
    "jupyter": {
     "outputs_hidden": true
    },
    "tags": []
   },
   "outputs": [
    {
     "name": "stdout",
     "output_type": "stream",
     "text": [
      "<div class=\"summary-ratings-count\">\n",
      "(3)\n",
      "</div>\n",
      "<div class=\"summary-ratings-count\">\n",
      "(2)\n",
      "</div>\n",
      "<div class=\"summary-ratings-count\">\n",
      "(8)\n",
      "</div>\n",
      "<div class=\"summary-ratings-count\">\n",
      "(6)\n",
      "</div>\n",
      "<div class=\"summary-ratings-count\">Write the first review</div>\n",
      "<div class=\"summary-ratings-count\">Write the first review</div>\n",
      "<div class=\"summary-ratings-count\">\n",
      "(7)\n",
      "</div>\n",
      "<div class=\"summary-ratings-count\">\n",
      "(4)\n",
      "</div>\n",
      "<div class=\"summary-ratings-count\">\n",
      "(3)\n",
      "</div>\n",
      "<div class=\"summary-ratings-count\">\n",
      "(2)\n",
      "</div>\n",
      "<div class=\"summary-ratings-count\">Write the first review</div>\n",
      "<div class=\"summary-ratings-count\">\n",
      "(5)\n",
      "</div>\n",
      "<div class=\"summary-ratings-count\">\n",
      "(8)\n",
      "</div>\n",
      "<div class=\"summary-ratings-count\">\n",
      "(1)\n",
      "</div>\n",
      "<div class=\"summary-ratings-count\">\n",
      "(9)\n",
      "</div>\n",
      "<div class=\"summary-ratings-count\">Write the first review</div>\n",
      "<div class=\"summary-ratings-count\">\n",
      "(9)\n",
      "</div>\n",
      "<div class=\"summary-ratings-count\">\n",
      "(4)\n",
      "</div>\n",
      "<div class=\"summary-ratings-count\">\n",
      "(2)\n",
      "</div>\n",
      "<div class=\"summary-ratings-count\">\n",
      "(9)\n",
      "</div>\n",
      "<div class=\"summary-ratings-count\">\n",
      "(16)\n",
      "</div>\n",
      "<div class=\"summary-ratings-count\">Write the first review</div>\n",
      "<div class=\"summary-ratings-count\">\n",
      "(10)\n",
      "</div>\n",
      "<div class=\"summary-ratings-count\">\n",
      "(3)\n",
      "</div>\n",
      "<div class=\"summary-ratings-count\">\n",
      "(2)\n",
      "</div>\n",
      "<div class=\"summary-ratings-count\">Write the first review</div>\n",
      "<div class=\"summary-ratings-count\">\n",
      "(2)\n",
      "</div>\n",
      "<div class=\"summary-ratings-count\">\n",
      "(16)\n",
      "</div>\n",
      "<div class=\"summary-ratings-count\">\n",
      "(4)\n",
      "</div>\n",
      "<div class=\"summary-ratings-count\">\n",
      "(13)\n",
      "</div>\n",
      "<div class=\"summary-ratings-count\">Write the first review</div>\n",
      "<div class=\"summary-ratings-count\">\n",
      "(4)\n",
      "</div>\n",
      "<div class=\"summary-ratings-count\">\n",
      "(2)\n",
      "</div>\n",
      "<div class=\"summary-ratings-count\">\n",
      "(4)\n",
      "</div>\n",
      "<div class=\"summary-ratings-count\">Write the first review</div>\n",
      "<div class=\"summary-ratings-count\">\n",
      "(6)\n",
      "</div>\n",
      "<div class=\"summary-ratings-count\">\n",
      "(269)\n",
      "</div>\n",
      "<div class=\"summary-ratings-count\">\n",
      "(1)\n",
      "</div>\n",
      "<div class=\"summary-ratings-count\">\n",
      "(2)\n",
      "</div>\n",
      "<div class=\"summary-ratings-count\">Write the first review</div>\n",
      "<div class=\"summary-ratings-count\">\n",
      "(9)\n",
      "</div>\n",
      "<div class=\"summary-ratings-count\">\n",
      "(8)\n",
      "</div>\n",
      "<div class=\"summary-ratings-count\">\n",
      "(1)\n",
      "</div>\n",
      "<div class=\"summary-ratings-count\">\n",
      "(3)\n",
      "</div>\n",
      "<div class=\"summary-ratings-count\">\n",
      "(4)\n",
      "</div>\n",
      "<div class=\"summary-ratings-count\">\n",
      "(2)\n",
      "</div>\n",
      "<div class=\"summary-ratings-count\">\n",
      "(4)\n",
      "</div>\n",
      "<div class=\"summary-ratings-count\">\n",
      "(6)\n",
      "</div>\n",
      "<div class=\"summary-ratings-count\">\n",
      "(5)\n",
      "</div>\n",
      "<div class=\"summary-ratings-count\">\n",
      "(11)\n",
      "</div>\n",
      "<div class=\"summary-ratings-count\">\n",
      "(3)\n",
      "</div>\n",
      "<div class=\"summary-ratings-count\">\n",
      "(3)\n",
      "</div>\n",
      "<div class=\"summary-ratings-count\">\n",
      "(4)\n",
      "</div>\n",
      "<div class=\"summary-ratings-count\">\n",
      "(11)\n",
      "</div>\n",
      "<div class=\"summary-ratings-count\">\n",
      "(123)\n",
      "</div>\n",
      "<div class=\"summary-ratings-count\">\n",
      "(14)\n",
      "</div>\n",
      "<div class=\"summary-ratings-count\">\n",
      "(6)\n",
      "</div>\n"
     ]
    }
   ],
   "source": [
    "for i in clinic_ratings:\n",
    "    print(i)"
   ]
  },
  {
   "cell_type": "code",
   "execution_count": null,
   "id": "41971eb2-88f6-4271-b779-1d076bbadff3",
   "metadata": {},
   "outputs": [],
   "source": [
    "len(clinic_names), len(clinic_address)"
   ]
  },
  {
   "cell_type": "code",
   "execution_count": null,
   "id": "d0c7b7cf-4546-457b-8ade-76c310a1e75b",
   "metadata": {},
   "outputs": [],
   "source": [
    "links[248].find('a')['href']"
   ]
  },
  {
   "cell_type": "code",
   "execution_count": null,
   "id": "e5c895f5-c95d-4069-85dc-58252fdf6d62",
   "metadata": {},
   "outputs": [],
   "source": [
    "link = []\n",
    "for i in range(len(links)):\n",
    "    link.append(links[i].find('a')['href'])"
   ]
  },
  {
   "cell_type": "code",
   "execution_count": null,
   "id": "4343ee5f-9935-4aaa-bfa1-b25ddd70d384",
   "metadata": {},
   "outputs": [],
   "source": [
    "link[]"
   ]
  },
  {
   "cell_type": "code",
   "execution_count": null,
   "id": "4df69539-bce3-4107-a51a-277bfdf4f92a",
   "metadata": {},
   "outputs": [],
   "source": [
    "df = pd.DataFrame({'Clinic_Name' : clinic_names[:250],\n",
    "                 'Address':clinic_address[:250],\n",
    "                 'Clinic_Type': type_of_clinic[:250],\n",
    "                 'Clinic_reviews': clinic_review[:250],\n",
    "                 'Links':link[:250]})"
   ]
  },
  {
   "cell_type": "code",
   "execution_count": null,
   "id": "92a52550-7d21-45a6-927e-817568eae62a",
   "metadata": {},
   "outputs": [],
   "source": [
    "df.Links[12]"
   ]
  },
  {
   "cell_type": "code",
   "execution_count": null,
   "id": "5506da72-def2-4142-8d41-9f1dc074d6b5",
   "metadata": {},
   "outputs": [],
   "source": [
    "df[df.Clinic_reviews == '5.0'].head(20)"
   ]
  },
  {
   "cell_type": "code",
   "execution_count": null,
   "id": "b811ffcf-64f3-47eb-8375-1e75eb33a84f",
   "metadata": {},
   "outputs": [],
   "source": [
    "\n",
    "df[ 'Links'][60]"
   ]
  },
  {
   "cell_type": "code",
   "execution_count": 44,
   "id": "036136d7-3cbe-42f1-9f99-296d187dc9d3",
   "metadata": {},
   "outputs": [],
   "source": [
    "def get_clinic_data(page_number):\n",
    "    global all_listings, listings\n",
    "    all_listings = []\n",
    "    listings = []\n",
    "    url = f\"https://www.local.ch/en/q/Switzerland/Clinique?page={page_number}&rid=3VCM&slot=tel\"\n",
    "    response = requests.get(url, timeout = 20)\n",
    "    if response.status_code == 200:\n",
    "        soup = BeautifulSoup(response.content, \"html.parser\")\n",
    "        listing = soup.find_all(\"div\", class_ =\"entry-card lui-padding-horizontal-m lui-padding-vertical-m entry-card-highlight entry-card-tel\")\n",
    "        listings.append(listing)\n",
    "        for list_ in listings:\n",
    "            c = list_.find_all('div', class_ = \"summary-ratings-count\" )\n",
    "            if c:\n",
    "                all_listings.append(list_)\n",
    "            else:\n",
    "                return None\n",
    "    else:\n",
    "        return None"
   ]
  },
  {
   "cell_type": "code",
   "execution_count": 39,
   "id": "27734844-c10b-48f9-acd5-93a690d411e1",
   "metadata": {},
   "outputs": [],
   "source": [
    "for i in range(1, 9):\n",
    "    get_clinic_data(i)"
   ]
  },
  {
   "cell_type": "code",
   "execution_count": 40,
   "id": "3ad2f379-b83b-400e-b9b0-9c71b5e78aa7",
   "metadata": {},
   "outputs": [
    {
     "data": {
      "text/plain": [
       "5"
      ]
     },
     "execution_count": 40,
     "metadata": {},
     "output_type": "execute_result"
    }
   ],
   "source": [
    "len(all_listings)"
   ]
  },
  {
   "cell_type": "code",
   "execution_count": 41,
   "id": "ef6815af-cc43-40a5-b13b-974acf4bb3ae",
   "metadata": {},
   "outputs": [],
   "source": [
    "rating = []\n",
    "for l in all_listings:\n",
    "    aa = l.find('div', class_ = \"summary-ratings-count\" )\n",
    "    rating.append(aa)"
   ]
  },
  {
   "cell_type": "code",
   "execution_count": 42,
   "id": "97eadc26-852b-483f-aab7-f4ba95c86fd5",
   "metadata": {},
   "outputs": [
    {
     "data": {
      "text/plain": [
       "[<div class=\"summary-ratings-count\">\n",
       " (7)\n",
       " </div>,\n",
       " <div class=\"summary-ratings-count\">\n",
       " (7)\n",
       " </div>,\n",
       " <div class=\"summary-ratings-count\">Write the first review</div>,\n",
       " <div class=\"summary-ratings-count\">\n",
       " (4)\n",
       " </div>,\n",
       " <div class=\"summary-ratings-count\">\n",
       " (7)\n",
       " </div>]"
      ]
     },
     "execution_count": 42,
     "metadata": {},
     "output_type": "execute_result"
    }
   ],
   "source": [
    "rating"
   ]
  },
  {
   "cell_type": "code",
   "execution_count": 43,
   "id": "22e59b2f-4190-4751-8620-45a4d6e05ede",
   "metadata": {
    "tags": []
   },
   "outputs": [
    {
     "name": "stdout",
     "output_type": "stream",
     "text": [
      "<div class=\"summary-ratings-count\">\n",
      "(7)\n",
      "</div>\n",
      "<div class=\"summary-ratings-count\">\n",
      "(7)\n",
      "</div>\n",
      "<div class=\"summary-ratings-count\">Write the first review</div>\n",
      "<div class=\"summary-ratings-count\">\n",
      "(4)\n",
      "</div>\n",
      "<div class=\"summary-ratings-count\">\n",
      "(7)\n",
      "</div>\n"
     ]
    }
   ],
   "source": [
    "\n",
    "for i in all_listings:\n",
    "    print(i.find('div', class_ = \"summary-ratings-count\" ))"
   ]
  },
  {
   "cell_type": "code",
   "execution_count": 6,
   "id": "01d59edd-ab35-4e55-8f6b-2c8a5473c27b",
   "metadata": {},
   "outputs": [
    {
     "data": {
      "text/plain": [
       "5"
      ]
     },
     "execution_count": 6,
     "metadata": {},
     "output_type": "execute_result"
    }
   ],
   "source": [
    "len(all_listings)"
   ]
  },
  {
   "cell_type": "code",
   "execution_count": 47,
   "id": "70cbdce2-e791-4a7d-aa0f-251e43cc6185",
   "metadata": {},
   "outputs": [
    {
     "data": {
      "text/plain": [
       "[<div class=\"summary-ratings-count\">\n",
       " (6)\n",
       " </div>,\n",
       " <div class=\"summary-ratings-count\">\n",
       " (30)\n",
       " </div>,\n",
       " <div class=\"summary-ratings-count\">\n",
       " (5)\n",
       " </div>,\n",
       " <div class=\"summary-ratings-count\">Write the first review</div>]"
      ]
     },
     "execution_count": 47,
     "metadata": {},
     "output_type": "execute_result"
    }
   ],
   "source": [
    "rating"
   ]
  },
  {
   "cell_type": "code",
   "execution_count": 16,
   "id": "67ebbbab-238a-4f16-994b-a246030acc88",
   "metadata": {
    "tags": []
   },
   "outputs": [
    {
     "ename": "TypeError",
     "evalue": "find() takes no keyword arguments",
     "output_type": "error",
     "traceback": [
      "\u001b[1;31m---------------------------------------------------------------------------\u001b[0m",
      "\u001b[1;31mTypeError\u001b[0m                                 Traceback (most recent call last)",
      "\u001b[1;32m~\\AppData\\Local\\Temp\\ipykernel_10796\\4130313978.py\u001b[0m in \u001b[0;36m<module>\u001b[1;34m\u001b[0m\n\u001b[0;32m      2\u001b[0m \u001b[1;32mfor\u001b[0m \u001b[0mnames\u001b[0m \u001b[1;32min\u001b[0m \u001b[0mall_listings\u001b[0m\u001b[1;33m:\u001b[0m\u001b[1;33m\u001b[0m\u001b[1;33m\u001b[0m\u001b[0m\n\u001b[0;32m      3\u001b[0m     \u001b[1;32mtry\u001b[0m\u001b[1;33m:\u001b[0m\u001b[1;33m\u001b[0m\u001b[1;33m\u001b[0m\u001b[0m\n\u001b[1;32m----> 4\u001b[1;33m         \u001b[0mname_element\u001b[0m \u001b[1;33m=\u001b[0m \u001b[0mnames\u001b[0m\u001b[1;33m.\u001b[0m\u001b[0mfind\u001b[0m\u001b[1;33m(\u001b[0m\u001b[1;34m\"h2\"\u001b[0m\u001b[1;33m,\u001b[0m \u001b[0mclass_\u001b[0m\u001b[1;33m=\u001b[0m\u001b[1;34m\"lui-margin-vertical-zero card-info-title\"\u001b[0m\u001b[1;33m)\u001b[0m\u001b[1;33m\u001b[0m\u001b[1;33m\u001b[0m\u001b[0m\n\u001b[0m\u001b[0;32m      5\u001b[0m         \u001b[0mname\u001b[0m \u001b[1;33m=\u001b[0m \u001b[0mname_element\u001b[0m\u001b[1;33m.\u001b[0m\u001b[0mtext\u001b[0m\u001b[1;33m.\u001b[0m\u001b[0mstrip\u001b[0m\u001b[1;33m(\u001b[0m\u001b[1;33m)\u001b[0m\u001b[1;33m\u001b[0m\u001b[1;33m\u001b[0m\u001b[0m\n\u001b[0;32m      6\u001b[0m         \u001b[0mclinic_names\u001b[0m\u001b[1;33m.\u001b[0m\u001b[0mappend\u001b[0m\u001b[1;33m(\u001b[0m\u001b[0mname\u001b[0m\u001b[1;33m)\u001b[0m\u001b[1;33m\u001b[0m\u001b[1;33m\u001b[0m\u001b[0m\n",
      "\u001b[1;31mTypeError\u001b[0m: find() takes no keyword arguments"
     ]
    }
   ],
   "source": [
    "clinic_names = []\n",
    "for names in all_listings:\n",
    "    try:\n",
    "        name_element = names.find(\"h2\", class_=\"lui-margin-vertical-zero card-info-title\")\n",
    "        name = name_element.text.strip()\n",
    "        clinic_names.append(name)\n",
    "    except AttributeError:\n",
    "        continue\n",
    "len(clinic_names)"
   ]
  },
  {
   "cell_type": "code",
   "execution_count": 42,
   "id": "24883be3-85b9-46b7-a6b6-8b9af89af17b",
   "metadata": {},
   "outputs": [
    {
     "data": {
      "text/html": [
       "<div>\n",
       "<style scoped>\n",
       "    .dataframe tbody tr th:only-of-type {\n",
       "        vertical-align: middle;\n",
       "    }\n",
       "\n",
       "    .dataframe tbody tr th {\n",
       "        vertical-align: top;\n",
       "    }\n",
       "\n",
       "    .dataframe thead th {\n",
       "        text-align: right;\n",
       "    }\n",
       "</style>\n",
       "<table border=\"1\" class=\"dataframe\">\n",
       "  <thead>\n",
       "    <tr style=\"text-align: right;\">\n",
       "      <th></th>\n",
       "      <th>name</th>\n",
       "      <th>rating</th>\n",
       "    </tr>\n",
       "  </thead>\n",
       "  <tbody>\n",
       "    <tr>\n",
       "      <th>0</th>\n",
       "      <td>Tierklinik Rhenus AG</td>\n",
       "      <td>(6)</td>\n",
       "    </tr>\n",
       "    <tr>\n",
       "      <th>1</th>\n",
       "      <td>Vitadent</td>\n",
       "      <td>(30)</td>\n",
       "    </tr>\n",
       "    <tr>\n",
       "      <th>2</th>\n",
       "      <td>Zahnarztpraxis Embrach-Rorbas AG</td>\n",
       "      <td>(5)</td>\n",
       "    </tr>\n",
       "    <tr>\n",
       "      <th>3</th>\n",
       "      <td>Zahnarztpraxis Embrach-Rorbas AG</td>\n",
       "      <td>Write the first review</td>\n",
       "    </tr>\n",
       "  </tbody>\n",
       "</table>\n",
       "</div>"
      ],
      "text/plain": [
       "                               name                  rating\n",
       "0              Tierklinik Rhenus AG                     (6)\n",
       "1                          Vitadent                    (30)\n",
       "2  Zahnarztpraxis Embrach-Rorbas AG                     (5)\n",
       "3  Zahnarztpraxis Embrach-Rorbas AG  Write the first review"
      ]
     },
     "execution_count": 42,
     "metadata": {},
     "output_type": "execute_result"
    }
   ],
   "source": [
    "pd.DataFrame({'name':clinic_names,\n",
    "              'rating':rating})"
   ]
  },
  {
   "cell_type": "code",
   "execution_count": 43,
   "id": "504b3ec8-bca6-4d68-9421-112f551fcc0d",
   "metadata": {},
   "outputs": [
    {
     "ename": "NameError",
     "evalue": "name 'review' is not defined",
     "output_type": "error",
     "traceback": [
      "\u001b[1;31m---------------------------------------------------------------------------\u001b[0m",
      "\u001b[1;31mNameError\u001b[0m                                 Traceback (most recent call last)",
      "\u001b[1;32m~\\AppData\\Local\\Temp\\ipykernel_6012\\1789104697.py\u001b[0m in \u001b[0;36m<module>\u001b[1;34m\u001b[0m\n\u001b[1;32m----> 1\u001b[1;33m \u001b[0mreview\u001b[0m\u001b[1;33m\u001b[0m\u001b[1;33m\u001b[0m\u001b[0m\n\u001b[0m",
      "\u001b[1;31mNameError\u001b[0m: name 'review' is not defined"
     ]
    }
   ],
   "source": [
    "review"
   ]
  },
  {
   "cell_type": "code",
   "execution_count": 50,
   "id": "29b84788-4888-4952-8568-c887f272e1af",
   "metadata": {},
   "outputs": [
    {
     "data": {
      "text/plain": [
       "10"
      ]
     },
     "execution_count": 50,
     "metadata": {},
     "output_type": "execute_result"
    }
   ],
   "source": [
    "len(rating)"
   ]
  },
  {
   "cell_type": "code",
   "execution_count": 13,
   "id": "81037275-39d5-4130-9e09-fd481a5512a5",
   "metadata": {},
   "outputs": [
    {
     "data": {
      "text/plain": [
       "20"
      ]
     },
     "execution_count": 13,
     "metadata": {},
     "output_type": "execute_result"
    }
   ],
   "source": [
    "len(listings)"
   ]
  },
  {
   "cell_type": "code",
   "execution_count": null,
   "id": "a7504dfb-1d2b-44c6-bcc8-5a7052c70296",
   "metadata": {},
   "outputs": [],
   "source": [
    "soup."
   ]
  }
 ],
 "metadata": {
  "kernelspec": {
   "display_name": "Python 3 (ipykernel)",
   "language": "python",
   "name": "python3"
  },
  "language_info": {
   "codemirror_mode": {
    "name": "ipython",
    "version": 3
   },
   "file_extension": ".py",
   "mimetype": "text/x-python",
   "name": "python",
   "nbconvert_exporter": "python",
   "pygments_lexer": "ipython3",
   "version": "3.9.13"
  }
 },
 "nbformat": 4,
 "nbformat_minor": 5
}
